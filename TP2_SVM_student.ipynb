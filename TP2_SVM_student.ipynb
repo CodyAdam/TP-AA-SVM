{
 "cells": [
  {
   "cell_type": "code",
   "execution_count": 1,
   "metadata": {
    "datalore": {
     "hide_input_from_viewers": false,
     "hide_output_from_viewers": false,
     "node_id": "e3hPwez8boRXKJsIbw7vih",
     "report_properties": {},
     "type": "CODE"
    }
   },
   "outputs": [],
   "source": [
    "import numpy as np\n",
    "import pandas as pd\n",
    "import matplotlib.pyplot as plt\n",
    "import matplotlib\n",
    "import seaborn as sns\n",
    "from sklearn.model_selection import train_test_split\n",
    "from sklearn.metrics import confusion_matrix\n",
    "from sklearn.metrics import accuracy_score\n",
    "from sklearn import svm\n",
    "from sklearn.model_selection import GridSearchCV"
   ]
  },
  {
   "attachments": {},
   "cell_type": "markdown",
   "metadata": {
    "datalore": {
     "hide_input_from_viewers": false,
     "hide_output_from_viewers": false,
     "node_id": "aRPAKzbUeqgBZzSiCm36Y4",
     "report_properties": {},
     "type": "MD"
    }
   },
   "source": [
    "<font  style=\"font-size: 4rem; color: #1abc9c\"> SVM </font>\n",
    "\n",
    "# <font color=\"#1E90FF\">Exercise 1. Linear SVM - Influence of hyper-parameter C</font>\n",
    "\n",
    "## <font color=\"#9400D3\">1. Load, analyze and visualize data</font>\n",
    "\n",
    "Warning: in this particular exercise, we will not split the dataset in train/val/test."
   ]
  },
  {
   "cell_type": "code",
   "execution_count": 2,
   "metadata": {
    "datalore": {
     "hide_input_from_viewers": false,
     "hide_output_from_viewers": false,
     "node_id": "3E8icjiWtE28fgqZ300H0R",
     "report_properties": {},
     "type": "CODE"
    }
   },
   "outputs": [
    {
     "data": {
      "text/html": [
       "<div>\n",
       "<style scoped>\n",
       "    .dataframe tbody tr th:only-of-type {\n",
       "        vertical-align: middle;\n",
       "    }\n",
       "\n",
       "    .dataframe tbody tr th {\n",
       "        vertical-align: top;\n",
       "    }\n",
       "\n",
       "    .dataframe thead th {\n",
       "        text-align: right;\n",
       "    }\n",
       "</style>\n",
       "<table border=\"1\" class=\"dataframe\">\n",
       "  <thead>\n",
       "    <tr style=\"text-align: right;\">\n",
       "      <th></th>\n",
       "      <th>x1</th>\n",
       "      <th>x2</th>\n",
       "      <th>y</th>\n",
       "    </tr>\n",
       "  </thead>\n",
       "  <tbody>\n",
       "    <tr>\n",
       "      <th>0</th>\n",
       "      <td>9.50</td>\n",
       "      <td>10.00</td>\n",
       "      <td>0</td>\n",
       "    </tr>\n",
       "    <tr>\n",
       "      <th>1</th>\n",
       "      <td>14.25</td>\n",
       "      <td>16.55</td>\n",
       "      <td>1</td>\n",
       "    </tr>\n",
       "    <tr>\n",
       "      <th>2</th>\n",
       "      <td>10.00</td>\n",
       "      <td>5.00</td>\n",
       "      <td>1</td>\n",
       "    </tr>\n",
       "    <tr>\n",
       "      <th>3</th>\n",
       "      <td>2.30</td>\n",
       "      <td>5.25</td>\n",
       "      <td>0</td>\n",
       "    </tr>\n",
       "    <tr>\n",
       "      <th>4</th>\n",
       "      <td>3.40</td>\n",
       "      <td>3.88</td>\n",
       "      <td>0</td>\n",
       "    </tr>\n",
       "    <tr>\n",
       "      <th>...</th>\n",
       "      <td>...</td>\n",
       "      <td>...</td>\n",
       "      <td>...</td>\n",
       "    </tr>\n",
       "    <tr>\n",
       "      <th>147</th>\n",
       "      <td>15.01</td>\n",
       "      <td>15.67</td>\n",
       "      <td>1</td>\n",
       "    </tr>\n",
       "    <tr>\n",
       "      <th>148</th>\n",
       "      <td>16.05</td>\n",
       "      <td>14.70</td>\n",
       "      <td>1</td>\n",
       "    </tr>\n",
       "    <tr>\n",
       "      <th>149</th>\n",
       "      <td>15.65</td>\n",
       "      <td>18.23</td>\n",
       "      <td>1</td>\n",
       "    </tr>\n",
       "    <tr>\n",
       "      <th>150</th>\n",
       "      <td>18.85</td>\n",
       "      <td>17.43</td>\n",
       "      <td>1</td>\n",
       "    </tr>\n",
       "    <tr>\n",
       "      <th>151</th>\n",
       "      <td>17.25</td>\n",
       "      <td>15.21</td>\n",
       "      <td>1</td>\n",
       "    </tr>\n",
       "  </tbody>\n",
       "</table>\n",
       "<p>152 rows × 3 columns</p>\n",
       "</div>"
      ],
      "text/plain": [
       "        x1     x2  y\n",
       "0     9.50  10.00  0\n",
       "1    14.25  16.55  1\n",
       "2    10.00   5.00  1\n",
       "3     2.30   5.25  0\n",
       "4     3.40   3.88  0\n",
       "..     ...    ... ..\n",
       "147  15.01  15.67  1\n",
       "148  16.05  14.70  1\n",
       "149  15.65  18.23  1\n",
       "150  18.85  17.43  1\n",
       "151  17.25  15.21  1\n",
       "\n",
       "[152 rows x 3 columns]"
      ]
     },
     "execution_count": 2,
     "metadata": {},
     "output_type": "execute_result"
    }
   ],
   "source": [
    "dataset = pd.read_csv('./LineaireNoisy.txt', delimiter='\\t')\n",
    "dataset"
   ]
  },
  {
   "attachments": {},
   "cell_type": "markdown",
   "metadata": {
    "datalore": {
     "hide_input_from_viewers": false,
     "hide_output_from_viewers": false,
     "node_id": "f57TUyCFYJxkkIAYQsVMRZ",
     "report_properties": {},
     "type": "MD"
    }
   },
   "source": [
    "<font color=\"red\">**Question 1:**</font> \n",
    "- How many examples $\\boldsymbol{x}^{(1)}, \\boldsymbol{x}^{(2)},...\\boldsymbol{x}^{(n)}$ in the dataset?\n",
    "- How many features $x_1, x_2,...x_d$ ? What are their types? Their distribution?\n",
    "- What are the classes?\n",
    "- What is the class distribution over the dataset?"
   ]
  },
  {
   "cell_type": "code",
   "execution_count": 3,
   "metadata": {
    "datalore": {
     "hide_input_from_viewers": true,
     "hide_output_from_viewers": true,
     "node_id": "14Gv6EwaVLUsMLiycoFytk",
     "type": "CODE"
    }
   },
   "outputs": [
    {
     "name": "stdout",
     "output_type": "stream",
     "text": [
      "number of examples:  152\n",
      "number of features:  3\n",
      "Classes:  [0 1]\n",
      "Distribution of classes :\n",
      "0    76\n",
      "1    76\n",
      "Name: y, dtype: int64\n"
     ]
    }
   ],
   "source": [
    "print(\"number of examples: \", dataset.shape[0])\n",
    "print(\"number of features: \", dataset.shape[1])\n",
    "print(\"Classes: \", dataset['y'].unique())\n",
    "print(\"Distribution of classes :\") \n",
    "print(dataset['y'].value_counts())"
   ]
  },
  {
   "attachments": {},
   "cell_type": "markdown",
   "metadata": {
    "datalore": {
     "hide_input_from_viewers": false,
     "hide_output_from_viewers": false,
     "node_id": "suIsEE1E4BtMfPuUIGTgqq",
     "report_properties": {},
     "type": "MD"
    }
   },
   "source": [
    "### Plotting the dataset"
   ]
  },
  {
   "cell_type": "code",
   "execution_count": 4,
   "metadata": {
    "datalore": {
     "hide_input_from_viewers": false,
     "hide_output_from_viewers": false,
     "node_id": "cAwenZaq3c0pjUcLTV8mrc",
     "report_properties": {},
     "type": "CODE"
    }
   },
   "outputs": [
    {
     "data": {
      "text/plain": [
       "<AxesSubplot:xlabel='x1', ylabel='x2'>"
      ]
     },
     "execution_count": 4,
     "metadata": {},
     "output_type": "execute_result"
    },
    {
     "data": {
      "image/png": "[encoded data removed]",
      "text/plain": [
       "<Figure size 640x480 with 1 Axes>"
      ]
     },
     "metadata": {},
     "output_type": "display_data"
    }
   ],
   "source": [
    "sns.scatterplot(data=dataset, x='x1', y='x2', hue='y', marker='+', palette=['blue','red'])"
   ]
  },
  {
   "attachments": {},
   "cell_type": "markdown",
   "metadata": {
    "datalore": {
     "hide_input_from_viewers": false,
     "hide_output_from_viewers": false,
     "node_id": "3CO93fARfS6sM2cSwGQ43Z",
     "report_properties": {},
     "type": "MD"
    }
   },
   "source": [
    "<font color=\"red\">**Question 2:**</font>  Is this dataset linearly separable ? Find some examples that are close to the boundary"
   ]
  },
  {
   "attachments": {},
   "cell_type": "markdown",
   "metadata": {},
   "source": [
    "Sur le graphe ci-dessous, les points bleus et les points rouges sont clairement séparables avec une droite. \n",
    "Il y a juste un point rouge qui potentiellement pourrait être mal classé.\n",
    "\n",
    "![q2](./exo1.png)"
   ]
  },
  {
   "attachments": {},
   "cell_type": "markdown",
   "metadata": {
    "datalore": {
     "hide_input_from_viewers": false,
     "hide_output_from_viewers": false,
     "node_id": "gl30QXnYctD58ATdlpLM16",
     "report_properties": {},
     "type": "MD"
    }
   },
   "source": [
    "## <font color=\"#9400D3\">2. Fitting a linear SVM to this dataset</font>\n",
    "\n",
    "One implementation of SVM is done by class <code>SVC</code>, which stands for Support Vector Classification.\n",
    "Documentation is available: \n",
    "https://scikit-learn.org/stable/modules/generated/sklearn.svm.SVC.html"
   ]
  },
  {
   "cell_type": "code",
   "execution_count": 5,
   "metadata": {
    "datalore": {
     "hide_input_from_viewers": false,
     "hide_output_from_viewers": false,
     "node_id": "N1P2vsmgwKM35bXs7MFCi9",
     "report_properties": {},
     "type": "CODE"
    }
   },
   "outputs": [
    {
     "data": {
      "text/plain": [
       "SVC(C=1000, kernel='linear')"
      ]
     },
     "execution_count": 5,
     "metadata": {},
     "output_type": "execute_result"
    }
   ],
   "source": [
    "# SVC with linear kernel, and parameter C set to 1000\n",
    "model_svm = svm.SVC(C = 1000, kernel = 'linear')\n",
    "\n",
    "# Fit the model using the features (x1 and x2) and the target (y)\n",
    "model_svm.fit(dataset.iloc[:,0:2], dataset.y)"
   ]
  },
  {
   "attachments": {},
   "cell_type": "markdown",
   "metadata": {
    "datalore": {
     "hide_input_from_viewers": false,
     "hide_output_from_viewers": false,
     "node_id": "cZYy2ayOkaSIV3ITdIwnKS",
     "report_properties": {},
     "type": "MD"
    }
   },
   "source": [
    "### Visualizing the SVM model\n",
    "\n",
    "Run the following cells to see a plot of your dataset together with the decision boundary and the margins."
   ]
  },
  {
   "cell_type": "code",
   "execution_count": 6,
   "metadata": {
    "datalore": {
     "hide_input_from_viewers": false,
     "hide_output_from_viewers": false,
     "node_id": "VxD97uxVdqs3ZbDFrGKaNN",
     "report_properties": {},
     "type": "CODE"
    }
   },
   "outputs": [],
   "source": [
    "def svm_draw(model_svm, xmin, xmax, the_dataset):\n",
    "    \n",
    "    color_map = matplotlib.colors.ListedColormap(pd.Series(['blue', 'red']))\n",
    "\n",
    "\n",
    "    plt.figure(figsize=(10, 8))\n",
    "    # Plotting our two-features-space\n",
    "    plt.scatter(the_dataset.iloc[:,0], the_dataset.iloc[:,1], c = the_dataset.y, cmap = color_map, marker='+')\n",
    "    # Constructing a hyperplane using a formula.\n",
    "    w = model_svm.coef_[0]           # w consists of 2 elements\n",
    "    b = model_svm.intercept_[0]      # b consists of 1 element\n",
    "    x_points = np.linspace(xmin, xmax)    # generating x-points from -1 to 1\n",
    "    y_points = -(w[0] / w[1]) * x_points - b / w[1]  # getting corresponding y-points\n",
    "\n",
    "    plt.plot(x_points, y_points, c='g');\n",
    "\n",
    "    plt.scatter(model_svm.support_vectors_[:, 0],\n",
    "                model_svm.support_vectors_[:, 1], \n",
    "                s=50, \n",
    "                facecolors='none', \n",
    "                edgecolors='k', \n",
    "                alpha=1);\n",
    "\n",
    "    # Step 2 (unit-vector):\n",
    "    w_hat = model_svm.coef_[0] / (np.sqrt(np.sum(model_svm.coef_[0] ** 2)))\n",
    "    # Step 3 (margin):\n",
    "    margin = 1 / np.sqrt(np.sum(model_svm.coef_[0] ** 2))\n",
    "    # Step 4 (calculate points of the margin lines):\n",
    "    decision_boundary_points = np.array(list(zip(x_points, y_points)))\n",
    "    points_of_line_above = decision_boundary_points + w_hat * margin\n",
    "    points_of_line_below = decision_boundary_points - w_hat * margin\n",
    "    # Plot margin lines\n",
    "    # Blue margin line above\n",
    "    plt.plot(points_of_line_above[:, 0], \n",
    "             points_of_line_above[:, 1], \n",
    "             'g--', \n",
    "             linewidth=2)\n",
    "    # Green margin line below\n",
    "    plt.plot(points_of_line_below[:, 0], \n",
    "             points_of_line_below[:, 1], \n",
    "             'g--',\n",
    "             linewidth=2)"
   ]
  },
  {
   "cell_type": "code",
   "execution_count": 7,
   "metadata": {
    "datalore": {
     "hide_input_from_viewers": false,
     "hide_output_from_viewers": false,
     "node_id": "BBbW3QX2MFtIw8fWrssHMg",
     "report_properties": {},
     "type": "CODE"
    }
   },
   "outputs": [
    {
     "data": {
      "image/png": "[encoded data removed]",
      "text/plain": [
       "<Figure size 1000x800 with 1 Axes>"
      ]
     },
     "metadata": {},
     "output_type": "display_data"
    }
   ],
   "source": [
    "svm_draw(model_svm, 9.3, 10.7, dataset)"
   ]
  },
  {
   "attachments": {},
   "cell_type": "markdown",
   "metadata": {
    "datalore": {
     "hide_input_from_viewers": false,
     "hide_output_from_viewers": false,
     "node_id": "iwlwPPGT9bZT2GvY6uI0Fk",
     "report_properties": {},
     "type": "MD"
    }
   },
   "source": [
    "<font color=\"red\">**Question 3:**</font>  \n",
    "- What do you think of this boundary and these margins?\n",
    "- How many points are inside the margins?\n",
    "- How many points are misclassified by this model?"
   ]
  },
  {
   "attachments": {},
   "cell_type": "markdown",
   "metadata": {},
   "source": [
    "In this particular case the separator line allows to directly separate the data of our dataset:\n",
    "- The line separates well the two classes (there are 0 misclassified points),\n",
    "- The margins are equidistant from the closest points of different classes,\n",
    "- But the points are too close to the margin to consider the model as optimal.\n",
    "\n",
    "Indeed, in the general case, this line may not correspond to the best possible separation because points may appear around the margin which is not wide enough to give us enough \"play\". \n",
    "\n",
    "This model is **overfitting** and **cannot generalize new data**. So we will see how to find the best separation line.\n",
    "\n",
    "\n",
    "- overfitting: the model is too complex and does not generalize well to new data\n",
    "- inside margin : 3 points\n",
    "- misclassified : 0 points"
   ]
  },
  {
   "attachments": {},
   "cell_type": "markdown",
   "metadata": {
    "datalore": {
     "hide_input_from_viewers": false,
     "hide_output_from_viewers": false,
     "node_id": "VGPh0fjvggaEoyVJ5h4NLL",
     "report_properties": {},
     "type": "MD"
    }
   },
   "source": [
    "### SVM model analysis\n",
    "\n",
    "We can also retrieve more precise information about the model that will allow us to understand its decision process.\n",
    "\n",
    "Course reminder: when fitting a SVM model, a Lagrange coefficient is associated to each sample. In addition, one more parameter is also estimated: the constant of the model.\n",
    "\n",
    "We can find these informations by the following commands:"
   ]
  },
  {
   "cell_type": "code",
   "execution_count": 8,
   "metadata": {
    "datalore": {
     "hide_input_from_viewers": false,
     "hide_output_from_viewers": false,
     "node_id": "J9NA7rr98PVgyi9BzZZ9wP",
     "report_properties": {},
     "type": "CODE"
    }
   },
   "outputs": [
    {
     "data": {
      "text/plain": [
       "array([[ 9.41,  6.97],\n",
       "       [10.  ,  5.  ],\n",
       "       [10.78, 18.49]])"
      ]
     },
     "execution_count": 8,
     "metadata": {},
     "output_type": "execute_result"
    }
   ],
   "source": [
    "# the support vectors found by the SVC\n",
    "model_svm.support_vectors_"
   ]
  },
  {
   "cell_type": "code",
   "execution_count": 9,
   "metadata": {
    "datalore": {
     "hide_input_from_viewers": false,
     "hide_output_from_viewers": false,
     "node_id": "4EZrYOkWty4qet5L7HxnbV",
     "report_properties": {},
     "type": "CODE"
    }
   },
   "outputs": [
    {
     "data": {
      "text/plain": [
       "array([ 62,   2, 102])"
      ]
     },
     "execution_count": 9,
     "metadata": {},
     "output_type": "execute_result"
    }
   ],
   "source": [
    "# the index of the support vectors in the dataset\n",
    "model_svm.support_"
   ]
  },
  {
   "cell_type": "code",
   "execution_count": 10,
   "metadata": {
    "datalore": {
     "hide_input_from_viewers": false,
     "hide_output_from_viewers": false,
     "node_id": "JWB5YnpMmoZKQK0pXT01d9",
     "report_properties": {},
     "type": "CODE"
    }
   },
   "outputs": [
    {
     "data": {
      "text/plain": [
       "array([[-4.04838982,  3.46935572,  0.5790341 ]])"
      ]
     },
     "execution_count": 10,
     "metadata": {},
     "output_type": "execute_result"
    }
   ],
   "source": [
    "# the lagrange coefficients associated to the support vectors (alpha_i) multiplied by their targets (y_i)\n",
    "model_svm.dual_coef_"
   ]
  },
  {
   "cell_type": "code",
   "execution_count": 11,
   "metadata": {
    "datalore": {
     "hide_input_from_viewers": false,
     "hide_output_from_viewers": false,
     "node_id": "cQTl9bR07TU6IbDMfQoMmz",
     "report_properties": {},
     "type": "CODE"
    }
   },
   "outputs": [
    {
     "data": {
      "text/plain": [
       "array([-26.58177221])"
      ]
     },
     "execution_count": 11,
     "metadata": {},
     "output_type": "execute_result"
    }
   ],
   "source": [
    "# the constant of the model (w0)\n",
    "model_svm.intercept_"
   ]
  },
  {
   "attachments": {},
   "cell_type": "markdown",
   "metadata": {
    "datalore": {
     "hide_input_from_viewers": false,
     "hide_output_from_viewers": false,
     "node_id": "5OeShXxtS3cX7Ekrg6ca0G",
     "report_properties": {},
     "type": "MD"
    }
   },
   "source": [
    "<font color=\"red\">**Question 4:**</font>  \n",
    "- How many support vectors?\n",
    "- What are the classes $y_i$ associated to each support vector?\n",
    "- What are lagrange coefficients $\\alpha_i$ associated to each support vector?\n",
    "\n",
    "Be carefull: 'dual_coef_' returns the lagrange coefficients associated to the support vectors **multiplied by their targets** "
   ]
  },
  {
   "cell_type": "code",
   "execution_count": 12,
   "metadata": {},
   "outputs": [
    {
     "name": "stdout",
     "output_type": "stream",
     "text": [
      "Support Vectors : \n",
      "        x1     x2\n",
      "62    9.41   6.97\n",
      "2    10.00   5.00\n",
      "102  10.78  18.49\n",
      "\n",
      "Number of support vectors:  3\n",
      "\n",
      "Classes y_i associated to the support vectors: \n",
      "62     0\n",
      "2      1\n",
      "102    1\n",
      "Name: y, dtype: int64\n",
      "\n",
      "Lagrange coefficients alpha_i associated to the support vectors: \n",
      "alpha_0 = -4.048389823022215\n",
      "alpha_1 = 3.469355722298181\n",
      "alpha_2 = 0.5790341007240324\n",
      "w0 =  -26.581772205040433\n"
     ]
    }
   ],
   "source": [
    "print(\"Support Vectors : \")\n",
    "indexes = model_svm.support_\n",
    "print(dataset.iloc[indexes, 0:2], end=\"\\n\\n\")\n",
    "\n",
    "print(\"Number of support vectors: \", model_svm.support_vectors_.shape[0])\n",
    "classes_support_vectors = dataset.iloc[model_svm.support_, 2]\n",
    "print(end=\"\\n\")\n",
    "\n",
    "print(\"Classes y_i associated to the support vectors: \")\n",
    "print(classes_support_vectors, end=\"\\n\\n\")\n",
    "\n",
    "print(\"Lagrange coefficients alpha_i associated to the support vectors: \")\n",
    "lagrange_coefficients = model_svm.dual_coef_[0]\n",
    "for i in range(model_svm.support_vectors_.shape[0]):\n",
    "    print(\"alpha_{} = {}\".format(i, lagrange_coefficients[i]), end=\"\\n\")\n",
    "\n",
    "print(\"w0 = \", model_svm.intercept_[0])"
   ]
  },
  {
   "attachments": {},
   "cell_type": "markdown",
   "metadata": {},
   "source": [
    "There are 3 support vectors : \n",
    "\n",
    "| x1 | x2 | Class (y) | Lagrande coef |\n",
    "| --- | --- | --- | --- |\n",
    "| 9.41  | 6.97 | 0 |  -4.04838982  |\n",
    "| 10.00  | 5.00 | 1 |  3.46935572  |\n",
    "| 10.78 | 18.49 | 1 |  0.5790341  |\n",
    "\n"
   ]
  },
  {
   "attachments": {},
   "cell_type": "markdown",
   "metadata": {
    "datalore": {
     "hide_input_from_viewers": false,
     "hide_output_from_viewers": false,
     "node_id": "WL0jpkz4f62DHSjOtahqhf",
     "report_properties": {},
     "type": "MD"
    }
   },
   "source": [
    "<font color=\"red\">**Question 5:**</font> \n",
    "Deduce the equation $h_w(x)$ of this model. "
   ]
  },
  {
   "attachments": {},
   "cell_type": "markdown",
   "metadata": {},
   "source": [
    "Formule de $h_w(x)$ :\n",
    "\n",
    "$$\n",
    "h_w(x)= \\sum_{i=1}^{m} \\alpha_i^* y^{(i)} (x \\bullet x^{(i)}) + w_0^*\n",
    "$$\n",
    "\n",
    "$$\n",
    "h_w(x)=-4.04838982*(-1)*(9.41*6.97)+3.46935572*1*(10.00*5.00)+0.5790341*1*(10.78*18.49)+-26.581772205040433\n",
    "$$"
   ]
  },
  {
   "attachments": {},
   "cell_type": "markdown",
   "metadata": {
    "datalore": {
     "hide_input_from_viewers": false,
     "hide_output_from_viewers": false,
     "node_id": "wx6BS6gC2TitrBmg4Li0c0",
     "report_properties": {},
     "type": "MD"
    }
   },
   "source": [
    "### Classification with SVM model\n",
    "\n",
    "<font color=\"blue\">**todo:**</font> Apply the previous formula to compute the decisions $\\hat{y}$ for the 2 first examples of the dataset. \n",
    "\n",
    "Hints: dot product between 2 vectors $x_1$ and $x_2$ is done by <code>np.dot(x_1, x_2)</code>.\n",
    "\n",
    "<font color=\"red\">**Question 6:**</font> \n",
    "- What represents the value $h_w(x)$?\n",
    "- Are these examples correctly classified?"
   ]
  },
  {
   "attachments": {},
   "cell_type": "markdown",
   "metadata": {},
   "source": [
    "> Q6.1 : $h_w(x)$ represents the estimated value of the target $y$ for the example $x$."
   ]
  },
  {
   "cell_type": "code",
   "execution_count": 13,
   "metadata": {
    "datalore": {
     "hide_input_from_viewers": false,
     "hide_output_from_viewers": false,
     "node_id": "ciyzP8FUsnRHLOSvjQSC8G",
     "report_properties": {},
     "type": "CODE"
    }
   },
   "outputs": [
    {
     "name": "stdout",
     "output_type": "stream",
     "text": [
      "point1: \n",
      " x1     9.5\n",
      "x2    10.0\n",
      "Name: 0, dtype: float64 y1:  0\n",
      "point2: \n",
      " x1    14.25\n",
      "x2    16.55\n",
      "Name: 1, dtype: float64 y2:  1\n",
      "742.6122935949594\n",
      "1882.9424961434595\n"
     ]
    }
   ],
   "source": [
    "# first and second point in the dataset\n",
    "point1 = dataset.iloc[0, 0:2]\n",
    "point2 = dataset.iloc[1, 0:2]\n",
    "y1 = dataset.iloc[0, 2]\n",
    "y2 = dataset.iloc[1, 2]\n",
    "print(\"point1: \\n\", point1, \"y1: \", y1)\n",
    "print(\"point2: \\n\", point2, \"y2: \", y2)\n",
    "\n",
    "def h(x):\n",
    "    # return model_svm.coef_[0][0] * x1 + model_svm.coef_[0][1] * x2 + model_svm.intercept_[0]\n",
    "    return -4.04838982*(-1)*(np.dot(x[0], x[1]))+3.46935572*(np.dot(x[0], x[1])) + 0.5790341*(np.dot(x[0], x[1])) - 26.581772205040433\n",
    "\n",
    "\n",
    "print(h(point1))\n",
    "print(h(point2))"
   ]
  },
  {
   "attachments": {},
   "cell_type": "markdown",
   "metadata": {
    "datalore": {
     "hide_input_from_viewers": false,
     "hide_output_from_viewers": false,
     "node_id": "SkgQ7s7fyBMaRFVVkvzT9y",
     "report_properties": {},
     "type": "MD"
    }
   },
   "source": [
    "You can obtain the $h_w(x)$ values for the examples in the dataset using the function \n",
    "<code>decision_function</code>.\n",
    "\n",
    "Check your results."
   ]
  },
  {
   "cell_type": "code",
   "execution_count": 14,
   "metadata": {
    "datalore": {
     "hide_input_from_viewers": false,
     "hide_output_from_viewers": false,
     "node_id": "SMme94bIUIvEXcY4IVIczN",
     "report_properties": {},
     "type": "CODE"
    }
   },
   "outputs": [
    {
     "name": "stdout",
     "output_type": "stream",
     "text": [
      "\n",
      "       x1     x2  y\n",
      "0   9.50  10.00  0\n",
      "1  14.25  16.55  1\n",
      "\n",
      "decision value for sample 0: -1.2414838865017792\n",
      "decision value for sample 1: 11.174215477258404\n"
     ]
    }
   ],
   "source": [
    "print('\\n',dataset.iloc[:2,:])\n",
    "decision_values = model_svm.decision_function(dataset.iloc[:2,0:2])\n",
    "print()\n",
    "for i in range(len(decision_values)):\n",
    "    print(\"decision value for sample {}: {}\".format(i, decision_values[i]), end=\"\\n\")"
   ]
  },
  {
   "attachments": {},
   "cell_type": "markdown",
   "metadata": {},
   "source": [
    "> Q6.2 : For the 2 first samples, the model correctly classifies them.\n",
    ">\n",
    "> - for the first value, the expected value is 0 and the model outputs -1.241 (which is negative : which corresponds to the class 0)\n",
    "> - for the second value, the expected value is 1 and the model outputs 11.17 (which is positive : which corresponds to the class 1)"
   ]
  },
  {
   "attachments": {},
   "cell_type": "markdown",
   "metadata": {
    "datalore": {
     "hide_input_from_viewers": false,
     "hide_output_from_viewers": false,
     "node_id": "YyGRIzrxefGZHwDnwJaqJC",
     "report_properties": {},
     "type": "MD"
    }
   },
   "source": [
    "<font color=\"red\">**Question 6:**</font> what are the decision values for the support vectors? Which values are expected for support vectors? \n",
    "\n",
    "> Q6.3 : The decision values for the support vectors is the value of $h_w(x)$ for the support vectors.\n",
    "> \n",
    "> The expected value for the support vectors is -1 or 1 because they are the closest points to the margin with a distance of 1."
   ]
  },
  {
   "cell_type": "code",
   "execution_count": 15,
   "metadata": {
    "datalore": {
     "hide_input_from_viewers": false,
     "hide_output_from_viewers": false,
     "node_id": "YSkoTN7ozO1EHzg6OAU8e2",
     "report_properties": {},
     "type": "CODE"
    }
   },
   "outputs": [
    {
     "name": "stdout",
     "output_type": "stream",
     "text": [
      "Support Vectors : \n",
      "        x1     x2  y\n",
      "62    9.41   6.97  0\n",
      "2    10.00   5.00  1\n",
      "102  10.78  18.49  1\n",
      "\n",
      "Decision values for the support vectors: \n",
      "decision value for support vector 0: -0.9997030442378865\n",
      "decision value for support vector 1: 0.9994040735050653\n",
      "decision value for support vector 2: 1.0002669063475516\n"
     ]
    }
   ],
   "source": [
    "# print the decision values for the support vectors\n",
    "print(\"Support Vectors : \")\n",
    "indexes = model_svm.support_\n",
    "print(dataset.iloc[indexes, 0:3], end=\"\\n\\n\")\n",
    "\n",
    "# Calculate the decision values for the support vectors\n",
    "print(\"Decision values for the support vectors: \")\n",
    "decision_values = model_svm.decision_function(dataset.iloc[indexes, 0:2])\n",
    "for i in range(model_svm.support_vectors_.shape[0]):\n",
    "    print(\"decision value for support vector {}: {}\".format(i, decision_values[i]), end=\"\\n\")\n",
    "    \n"
   ]
  },
  {
   "attachments": {},
   "cell_type": "markdown",
   "metadata": {},
   "source": [
    "> As expected they are the closest points to the margin with a distance of 1. and the classes are correctly classified."
   ]
  },
  {
   "attachments": {},
   "cell_type": "markdown",
   "metadata": {
    "datalore": {
     "hide_input_from_viewers": false,
     "hide_output_from_viewers": false,
     "node_id": "oW6VDeo6fnsHUhrdQ5To3t",
     "report_properties": {},
     "type": "MD"
    }
   },
   "source": [
    "## <font color=\"#9400D3\">3. Change the hyperparameter C</font>\n",
    "\n",
    "Even if the dataset is linearly separable, the previous boundary is not very adapted. Because C is very high the model favours no training error. \n",
    "\n",
    "<font color=\"blue\">**Todo:**</font> \n",
    "- Fit a model with a smaller value of C: C = 1\n",
    "- Plot the new boundary and margins\n",
    "\n",
    "<font color=\"red\">**Question 7:**</font> \n",
    " - 1. How many support vectors are selected ?\n",
    " - 2. How many points are inside the margins ? on the margins ?\n",
    " - 3. How many points from the dataset are misclassified ?\n",
    " - 4. What are the lagrange values of $\\alpha$ for the support vectors ?\n",
    " - 5. What are the values of $h_w(x)$ for the support vectors ?"
   ]
  },
  {
   "cell_type": "code",
   "execution_count": 16,
   "metadata": {
    "datalore": {
     "hide_input_from_viewers": false,
     "hide_output_from_viewers": false,
     "node_id": "7nzNxNNr36VLXNi49v1x6D",
     "report_properties": {},
     "type": "CODE"
    }
   },
   "outputs": [],
   "source": [
    "# Fit a SVM model with C=1 \n",
    "model_svm_C_lower = svm.SVC(C = 1, kernel = 'linear')"
   ]
  },
  {
   "cell_type": "code",
   "execution_count": 17,
   "metadata": {
    "datalore": {
     "hide_input_from_viewers": false,
     "hide_output_from_viewers": false,
     "node_id": "U6jH2q43N7BAehXLHZWH74",
     "report_properties": {},
     "type": "CODE"
    }
   },
   "outputs": [
    {
     "data": {
      "image/png": "[encoded data removed]",
      "text/plain": [
       "<Figure size 1000x800 with 1 Axes>"
      ]
     },
     "metadata": {},
     "output_type": "display_data"
    }
   ],
   "source": [
    "# Visualize boundary and margins\n",
    "model_svm_C_lower.fit(dataset.iloc[:,0:2], dataset.y)\n",
    "svm_draw(model_svm_C_lower, 9.3, 10.7, dataset)"
   ]
  },
  {
   "cell_type": "code",
   "execution_count": 18,
   "metadata": {},
   "outputs": [
    {
     "name": "stdout",
     "output_type": "stream",
     "text": [
      "Support Vectors :\n",
      "        x1     x2  y\n",
      "0     9.50  10.00  0\n",
      "62    9.41   6.97  0\n",
      "2    10.00   5.00  1\n",
      "102  10.78  18.49  1\n",
      "\n",
      "Lagrange coefficients alpha_i associated to the support vectors: \n",
      "alpha_0 = -1.0\n",
      "alpha_1 = -0.4377455269394006\n",
      "alpha_2 = 1.0\n",
      "alpha_3 = 0.4377455269394007\n",
      "w0 =  -11.6467925059905\n",
      "\n",
      "Support Vectors decision values: \n",
      "decision value for sample 0: -0.7712497694552347\n",
      "decision value for sample 1: -0.9999940580628213\n",
      "decision value for sample 2: -0.43553643521121543\n",
      "decision value for sample 3: 0.9999944997884462\n"
     ]
    }
   ],
   "source": [
    "# Support vectors with C=1\n",
    "print(\"Support Vectors :\")\n",
    "indexes = model_svm_C_lower.support_\n",
    "\n",
    "# Lagrande estimation with C=1\n",
    "print(dataset.iloc[indexes,:])\n",
    "print()\n",
    "\n",
    "\n",
    "print(\"Lagrange coefficients alpha_i associated to the support vectors: \")\n",
    "lagrange_coefficients = model_svm_C_lower.dual_coef_[0]\n",
    "for i in range(model_svm_C_lower.support_vectors_.shape[0]):\n",
    "    print(\"alpha_{} = {}\".format(i, lagrange_coefficients[i]), end=\"\\n\")\n",
    "print(\"w0 = \", model_svm_C_lower.intercept_[0])\n",
    "\n",
    "print(\"\\nSupport Vectors decision values: \")\n",
    "decision_values = model_svm_C_lower.decision_function(dataset.iloc[indexes,0:2])\n",
    "for i in range(len(decision_values)):\n",
    "    print(\"decision value for sample {}: {}\".format(i, decision_values[i]), end=\"\\n\")"
   ]
  },
  {
   "attachments": {},
   "cell_type": "markdown",
   "metadata": {},
   "source": [
    "<font color=\"red\">**Question 7:**</font> \n",
    "- 1. How many support vectors are selected ?\n",
    "\n",
    "> There are 4 support vectors\n",
    "\n",
    "- 2. How many points are inside the margins ? on the margins ?\n",
    "\n",
    "> This corresponds to the number of support vectors. There are 4 points inside the margins.\n",
    "\n",
    "- 3. How many points from the dataset are misclassified ?\n",
    "\n",
    "> It has only one point which is misclacified.\n",
    "\n",
    "- 4. What are the lagrange values of $\\alpha$ for the support vectors ?\n",
    "\n",
    "> Lagrange coefficients alpha_i associated to the support vectors: \n",
    "> \n",
    "> - $alpha_0 = -1.0$\n",
    "> - $alpha_1 = -0.4377455269394006$\n",
    "> - $alpha_2 = 1.0$\n",
    "> - $alpha_3 = 0.4377455269394007$\n",
    "> - $w_0 =  -11.6467925059905$\n",
    "\n",
    "- 5. What are the values of $h_w(x)$ for the support vectors ?\n",
    "\n",
    "> | x1 | x2 | Class (y) | $$h_w(x)$$ |\n",
    "> | --- | --- | --- | --- |\n",
    "> | 9.50 | 10.00 | 0 | -0.7712497694552347 |\n",
    "> | 9.41 | 6.97 | 0 | -0.9999940580628213 |\n",
    "> | 10.00 | 5.00 | 1 | -0.43553643521121543 |\n",
    "> | 10.78 | 18.49 | 1 | 0.9999944997884462 |\n",
    "\n",
    "\n"
   ]
  },
  {
   "attachments": {},
   "cell_type": "markdown",
   "metadata": {
    "datalore": {
     "hide_input_from_viewers": false,
     "hide_output_from_viewers": false,
     "node_id": "YdgUrA4yKtm0Bt9hUvCPjm",
     "report_properties": {},
     "type": "MD"
    }
   },
   "source": [
    "<font color=\"red\">**Question 8:**</font>  Same as question 7 for C = 0.01.\n",
    "\n",
    "hint: you'll have to modify xmin and xmax in the <code>svm_draw</code> function to 3 and 17"
   ]
  },
  {
   "cell_type": "code",
   "execution_count": 19,
   "metadata": {
    "datalore": {
     "hide_input_from_viewers": false,
     "hide_output_from_viewers": false,
     "node_id": "rPE1hmqATtvrmdH4l0MM5J",
     "report_properties": {},
     "type": "CODE"
    }
   },
   "outputs": [
    {
     "name": "stdout",
     "output_type": "stream",
     "text": [
      "Support Vectors :\n",
      "        x1     x2  y\n",
      "0     9.50  10.00  0\n",
      "11    5.24   8.50  0\n",
      "25    8.19   6.13  0\n",
      "39    9.30   7.14  0\n",
      "62    9.41   6.97  0\n",
      "64    7.03   7.64  0\n",
      "2    10.00   5.00  1\n",
      "87   11.61  13.78  1\n",
      "93   14.01  10.63  1\n",
      "106  11.91  13.44  1\n",
      "120  11.63  12.56  1\n",
      "129  13.59  12.12  1\n",
      "\n",
      "Lagrange coefficients alpha_i associated to the support vectors: \n",
      "alpha_0 = -0.01\n",
      "alpha_1 = -0.000627323999513436\n",
      "alpha_2 = -0.01\n",
      "alpha_3 = -0.01\n",
      "alpha_4 = -0.01\n",
      "alpha_5 = -0.01\n",
      "alpha_6 = 0.01\n",
      "alpha_7 = 0.01\n",
      "alpha_8 = 0.01\n",
      "alpha_9 = 0.01\n",
      "alpha_10 = 0.01\n",
      "alpha_11 = 0.000627323999513436\n",
      "w0 =  -3.361052827175263\n",
      "\n",
      "Support Vectors decision values: \n",
      "decision value for sample 0: -0.04123122213147257\n",
      "decision value for sample 1: -1.000000133435524\n",
      "decision value for sample 2: -0.9413556385389343\n",
      "decision value for sample 3: -0.5815916640424237\n",
      "decision value for sample 4: -0.5938995221381709\n",
      "decision value for sample 5: -0.8617678203520809\n",
      "decision value for sample 6: -0.8478167088246971\n",
      "decision value for sample 7: 0.9729423364336953\n",
      "decision value for sample 8: 0.8036855338174935\n",
      "decision value for sample 9: 0.9613296726738754\n",
      "decision value for sample 10: 0.759556585830166\n",
      "decision value for sample 11: 1.0000001687397764\n"
     ]
    },
    {
     "data": {
      "image/png": "[encoded data removed]",
      "text/plain": [
       "<Figure size 1000x800 with 1 Axes>"
      ]
     },
     "metadata": {},
     "output_type": "display_data"
    }
   ],
   "source": [
    "# TODO - Fit a SVM with C=0.01\n",
    "model_svm_C_very_lower = svm.SVC(C = 0.01, kernel = 'linear')\n",
    "# Visualize boundary and margins\n",
    "model_svm_C_very_lower.fit(dataset.iloc[:,0:2], dataset.y)\n",
    "svm_draw(model_svm_C_very_lower, 3, 17, dataset)\n",
    "\n",
    "# Support vectors with C=1\n",
    "print(\"Support Vectors :\")\n",
    "indexes = model_svm_C_very_lower.support_\n",
    "\n",
    "# Lagrande estimation with C=1\n",
    "print(dataset.iloc[indexes,:])\n",
    "print()\n",
    "\n",
    "print(\"Lagrange coefficients alpha_i associated to the support vectors: \")\n",
    "lagrange_coefficients = model_svm_C_very_lower.dual_coef_[0]\n",
    "for i in range(model_svm_C_very_lower.support_vectors_.shape[0]):\n",
    "    print(\"alpha_{} = {}\".format(i, lagrange_coefficients[i]), end=\"\\n\")\n",
    "print(\"w0 = \", model_svm_C_very_lower.intercept_[0])\n",
    "\n",
    "print(\"\\nSupport Vectors decision values: \")\n",
    "decision_values = model_svm_C_very_lower.decision_function(dataset.iloc[indexes,0:2])\n",
    "for i in range(len(decision_values)):\n",
    "    print(\"decision value for sample {}: {}\".format(i, decision_values[i]), end=\"\\n\")"
   ]
  },
  {
   "attachments": {},
   "cell_type": "markdown",
   "metadata": {
    "datalore": {
     "hide_input_from_viewers": false,
     "hide_output_from_viewers": false,
     "node_id": "DQOGZeSJpZDc0HWDFnkaLR",
     "report_properties": {},
     "type": "MD"
    }
   },
   "source": [
    "<font color=\"red\">**Question 9:**</font>  what can you conclude about the influence of C ?"
   ]
  },
  {
   "attachments": {},
   "cell_type": "markdown",
   "metadata": {},
   "source": [
    "> Q9: C influences the width of the margin. The smaller C is, the wider the margin is. The larger C is, the narrower the margin is.\n",
    ">\n",
    "> Futhermore, we need to be careful with the value of C. If C is too small, the model will not be able to classify the data correctly. If C is too large, the model will overfit the data."
   ]
  },
  {
   "attachments": {},
   "cell_type": "markdown",
   "metadata": {
    "datalore": {
     "hide_input_from_viewers": false,
     "hide_output_from_viewers": false,
     "node_id": "Bbox63kwJGBhbk9FurlBHP",
     "report_properties": {},
     "type": "MD"
    }
   },
   "source": [
    "# <font color=\"#1E90FF\">Exercise 2: Choosing C using train/val/test split</font>"
   ]
  },
  {
   "attachments": {},
   "cell_type": "markdown",
   "metadata": {
    "datalore": {
     "hide_input_from_viewers": false,
     "hide_output_from_viewers": false,
     "node_id": "KV5Tj7CsljGW6B5NnA1Smk",
     "report_properties": {},
     "type": "MD"
    }
   },
   "source": [
    "In this exercise, you will choose the best value of C (for a given dataset) by the same procedure as for the other algorithms: train/validation/test split"
   ]
  },
  {
   "cell_type": "code",
   "execution_count": 20,
   "metadata": {
    "datalore": {
     "hide_input_from_viewers": false,
     "hide_output_from_viewers": false,
     "node_id": "6fqTuaJP43zXEIif9Lqq07",
     "report_properties": {},
     "type": "CODE"
    }
   },
   "outputs": [
    {
     "data": {
      "text/html": [
       "<div>\n",
       "<style scoped>\n",
       "    .dataframe tbody tr th:only-of-type {\n",
       "        vertical-align: middle;\n",
       "    }\n",
       "\n",
       "    .dataframe tbody tr th {\n",
       "        vertical-align: top;\n",
       "    }\n",
       "\n",
       "    .dataframe thead th {\n",
       "        text-align: right;\n",
       "    }\n",
       "</style>\n",
       "<table border=\"1\" class=\"dataframe\">\n",
       "  <thead>\n",
       "    <tr style=\"text-align: right;\">\n",
       "      <th></th>\n",
       "      <th>crl.tot</th>\n",
       "      <th>dollar</th>\n",
       "      <th>bang</th>\n",
       "      <th>money</th>\n",
       "      <th>n000</th>\n",
       "      <th>make</th>\n",
       "      <th>yesno</th>\n",
       "      <th>y</th>\n",
       "    </tr>\n",
       "  </thead>\n",
       "  <tbody>\n",
       "    <tr>\n",
       "      <th>0</th>\n",
       "      <td>278</td>\n",
       "      <td>0.000</td>\n",
       "      <td>0.778</td>\n",
       "      <td>0.00</td>\n",
       "      <td>0.00</td>\n",
       "      <td>0.00</td>\n",
       "      <td>y</td>\n",
       "      <td>1</td>\n",
       "    </tr>\n",
       "    <tr>\n",
       "      <th>1</th>\n",
       "      <td>1028</td>\n",
       "      <td>0.180</td>\n",
       "      <td>0.372</td>\n",
       "      <td>0.43</td>\n",
       "      <td>0.43</td>\n",
       "      <td>0.21</td>\n",
       "      <td>y</td>\n",
       "      <td>1</td>\n",
       "    </tr>\n",
       "    <tr>\n",
       "      <th>2</th>\n",
       "      <td>2259</td>\n",
       "      <td>0.184</td>\n",
       "      <td>0.276</td>\n",
       "      <td>0.06</td>\n",
       "      <td>1.16</td>\n",
       "      <td>0.06</td>\n",
       "      <td>y</td>\n",
       "      <td>1</td>\n",
       "    </tr>\n",
       "    <tr>\n",
       "      <th>3</th>\n",
       "      <td>191</td>\n",
       "      <td>0.000</td>\n",
       "      <td>0.137</td>\n",
       "      <td>0.00</td>\n",
       "      <td>0.00</td>\n",
       "      <td>0.00</td>\n",
       "      <td>y</td>\n",
       "      <td>1</td>\n",
       "    </tr>\n",
       "    <tr>\n",
       "      <th>4</th>\n",
       "      <td>191</td>\n",
       "      <td>0.000</td>\n",
       "      <td>0.135</td>\n",
       "      <td>0.00</td>\n",
       "      <td>0.00</td>\n",
       "      <td>0.00</td>\n",
       "      <td>y</td>\n",
       "      <td>1</td>\n",
       "    </tr>\n",
       "    <tr>\n",
       "      <th>...</th>\n",
       "      <td>...</td>\n",
       "      <td>...</td>\n",
       "      <td>...</td>\n",
       "      <td>...</td>\n",
       "      <td>...</td>\n",
       "      <td>...</td>\n",
       "      <td>...</td>\n",
       "      <td>...</td>\n",
       "    </tr>\n",
       "    <tr>\n",
       "      <th>4596</th>\n",
       "      <td>88</td>\n",
       "      <td>0.000</td>\n",
       "      <td>0.000</td>\n",
       "      <td>0.00</td>\n",
       "      <td>0.00</td>\n",
       "      <td>0.31</td>\n",
       "      <td>n</td>\n",
       "      <td>0</td>\n",
       "    </tr>\n",
       "    <tr>\n",
       "      <th>4597</th>\n",
       "      <td>14</td>\n",
       "      <td>0.000</td>\n",
       "      <td>0.353</td>\n",
       "      <td>0.00</td>\n",
       "      <td>0.00</td>\n",
       "      <td>0.00</td>\n",
       "      <td>n</td>\n",
       "      <td>0</td>\n",
       "    </tr>\n",
       "    <tr>\n",
       "      <th>4598</th>\n",
       "      <td>118</td>\n",
       "      <td>0.000</td>\n",
       "      <td>0.000</td>\n",
       "      <td>0.00</td>\n",
       "      <td>0.00</td>\n",
       "      <td>0.30</td>\n",
       "      <td>n</td>\n",
       "      <td>0</td>\n",
       "    </tr>\n",
       "    <tr>\n",
       "      <th>4599</th>\n",
       "      <td>78</td>\n",
       "      <td>0.000</td>\n",
       "      <td>0.000</td>\n",
       "      <td>0.00</td>\n",
       "      <td>0.00</td>\n",
       "      <td>0.96</td>\n",
       "      <td>n</td>\n",
       "      <td>0</td>\n",
       "    </tr>\n",
       "    <tr>\n",
       "      <th>4600</th>\n",
       "      <td>40</td>\n",
       "      <td>0.000</td>\n",
       "      <td>0.125</td>\n",
       "      <td>0.00</td>\n",
       "      <td>0.00</td>\n",
       "      <td>0.00</td>\n",
       "      <td>n</td>\n",
       "      <td>0</td>\n",
       "    </tr>\n",
       "  </tbody>\n",
       "</table>\n",
       "<p>4601 rows × 8 columns</p>\n",
       "</div>"
      ],
      "text/plain": [
       "      crl.tot  dollar   bang  money  n000  make yesno  y\n",
       "0         278   0.000  0.778   0.00  0.00  0.00     y  1\n",
       "1        1028   0.180  0.372   0.43  0.43  0.21     y  1\n",
       "2        2259   0.184  0.276   0.06  1.16  0.06     y  1\n",
       "3         191   0.000  0.137   0.00  0.00  0.00     y  1\n",
       "4         191   0.000  0.135   0.00  0.00  0.00     y  1\n",
       "...       ...     ...    ...    ...   ...   ...   ... ..\n",
       "4596       88   0.000  0.000   0.00  0.00  0.31     n  0\n",
       "4597       14   0.000  0.353   0.00  0.00  0.00     n  0\n",
       "4598      118   0.000  0.000   0.00  0.00  0.30     n  0\n",
       "4599       78   0.000  0.000   0.00  0.00  0.96     n  0\n",
       "4600       40   0.000  0.125   0.00  0.00  0.00     n  0\n",
       "\n",
       "[4601 rows x 8 columns]"
      ]
     },
     "execution_count": 20,
     "metadata": {},
     "output_type": "execute_result"
    }
   ],
   "source": [
    "# Load the dataset\n",
    "#dataset = pd.read_csv(\"./data/spam7.csv\", decimal=\",\", index_col=0, delimiter = \";\")\n",
    "dataset = pd.read_csv(\"./spam7.csv\", decimal=\",\", index_col=0, delimiter = \";\")\n",
    "dataset[\"yesno\"]=dataset[\"yesno\"]\n",
    "dataset[\"y\"]=dataset[\"yesno\"].apply(lambda label: 1 if label == \"y\" else 0)\n",
    "dataset\n",
    "# A description about this dataset is given here:\n",
    "# https://rdrr.io/cran/DAAG/man/spam7.html"
   ]
  },
  {
   "attachments": {},
   "cell_type": "markdown",
   "metadata": {
    "datalore": {
     "hide_input_from_viewers": false,
     "hide_output_from_viewers": false,
     "node_id": "SiK1CXYSRJ9ME3emnIgGSg",
     "report_properties": {},
     "type": "MD"
    }
   },
   "source": [
    "<font color=\"red\">**Question 1:**</font>  How many examples ? How many features ? What is the distribution of the target ?"
   ]
  },
  {
   "cell_type": "code",
   "execution_count": 21,
   "metadata": {
    "datalore": {
     "hide_input_from_viewers": false,
     "hide_output_from_viewers": false,
     "node_id": "zPdkc9mifEVR1sEhhZbuWQ",
     "report_properties": {},
     "type": "CODE"
    }
   },
   "outputs": [
    {
     "data": {
      "text/html": [
       "<div>\n",
       "<style scoped>\n",
       "    .dataframe tbody tr th:only-of-type {\n",
       "        vertical-align: middle;\n",
       "    }\n",
       "\n",
       "    .dataframe tbody tr th {\n",
       "        vertical-align: top;\n",
       "    }\n",
       "\n",
       "    .dataframe thead th {\n",
       "        text-align: right;\n",
       "    }\n",
       "</style>\n",
       "<table border=\"1\" class=\"dataframe\">\n",
       "  <thead>\n",
       "    <tr style=\"text-align: right;\">\n",
       "      <th></th>\n",
       "      <th>crl.tot</th>\n",
       "      <th>dollar</th>\n",
       "      <th>bang</th>\n",
       "      <th>money</th>\n",
       "      <th>n000</th>\n",
       "      <th>make</th>\n",
       "      <th>y</th>\n",
       "    </tr>\n",
       "  </thead>\n",
       "  <tbody>\n",
       "    <tr>\n",
       "      <th>count</th>\n",
       "      <td>4601.000000</td>\n",
       "      <td>4601.000000</td>\n",
       "      <td>4601.000000</td>\n",
       "      <td>4601.000000</td>\n",
       "      <td>4601.000000</td>\n",
       "      <td>4601.000000</td>\n",
       "      <td>4601.000000</td>\n",
       "    </tr>\n",
       "    <tr>\n",
       "      <th>mean</th>\n",
       "      <td>283.289285</td>\n",
       "      <td>0.075811</td>\n",
       "      <td>0.269071</td>\n",
       "      <td>0.094269</td>\n",
       "      <td>0.101645</td>\n",
       "      <td>0.104553</td>\n",
       "      <td>0.394045</td>\n",
       "    </tr>\n",
       "    <tr>\n",
       "      <th>std</th>\n",
       "      <td>606.347851</td>\n",
       "      <td>0.245882</td>\n",
       "      <td>0.815672</td>\n",
       "      <td>0.442636</td>\n",
       "      <td>0.350286</td>\n",
       "      <td>0.305358</td>\n",
       "      <td>0.488698</td>\n",
       "    </tr>\n",
       "    <tr>\n",
       "      <th>min</th>\n",
       "      <td>1.000000</td>\n",
       "      <td>0.000000</td>\n",
       "      <td>0.000000</td>\n",
       "      <td>0.000000</td>\n",
       "      <td>0.000000</td>\n",
       "      <td>0.000000</td>\n",
       "      <td>0.000000</td>\n",
       "    </tr>\n",
       "    <tr>\n",
       "      <th>25%</th>\n",
       "      <td>35.000000</td>\n",
       "      <td>0.000000</td>\n",
       "      <td>0.000000</td>\n",
       "      <td>0.000000</td>\n",
       "      <td>0.000000</td>\n",
       "      <td>0.000000</td>\n",
       "      <td>0.000000</td>\n",
       "    </tr>\n",
       "    <tr>\n",
       "      <th>50%</th>\n",
       "      <td>95.000000</td>\n",
       "      <td>0.000000</td>\n",
       "      <td>0.000000</td>\n",
       "      <td>0.000000</td>\n",
       "      <td>0.000000</td>\n",
       "      <td>0.000000</td>\n",
       "      <td>0.000000</td>\n",
       "    </tr>\n",
       "    <tr>\n",
       "      <th>75%</th>\n",
       "      <td>266.000000</td>\n",
       "      <td>0.052000</td>\n",
       "      <td>0.315000</td>\n",
       "      <td>0.000000</td>\n",
       "      <td>0.000000</td>\n",
       "      <td>0.000000</td>\n",
       "      <td>1.000000</td>\n",
       "    </tr>\n",
       "    <tr>\n",
       "      <th>max</th>\n",
       "      <td>15841.000000</td>\n",
       "      <td>6.003000</td>\n",
       "      <td>32.478000</td>\n",
       "      <td>12.500000</td>\n",
       "      <td>5.450000</td>\n",
       "      <td>4.540000</td>\n",
       "      <td>1.000000</td>\n",
       "    </tr>\n",
       "  </tbody>\n",
       "</table>\n",
       "</div>"
      ],
      "text/plain": [
       "            crl.tot       dollar         bang        money         n000  \\\n",
       "count   4601.000000  4601.000000  4601.000000  4601.000000  4601.000000   \n",
       "mean     283.289285     0.075811     0.269071     0.094269     0.101645   \n",
       "std      606.347851     0.245882     0.815672     0.442636     0.350286   \n",
       "min        1.000000     0.000000     0.000000     0.000000     0.000000   \n",
       "25%       35.000000     0.000000     0.000000     0.000000     0.000000   \n",
       "50%       95.000000     0.000000     0.000000     0.000000     0.000000   \n",
       "75%      266.000000     0.052000     0.315000     0.000000     0.000000   \n",
       "max    15841.000000     6.003000    32.478000    12.500000     5.450000   \n",
       "\n",
       "              make            y  \n",
       "count  4601.000000  4601.000000  \n",
       "mean      0.104553     0.394045  \n",
       "std       0.305358     0.488698  \n",
       "min       0.000000     0.000000  \n",
       "25%       0.000000     0.000000  \n",
       "50%       0.000000     0.000000  \n",
       "75%       0.000000     1.000000  \n",
       "max       4.540000     1.000000  "
      ]
     },
     "execution_count": 21,
     "metadata": {},
     "output_type": "execute_result"
    }
   ],
   "source": [
    "# dataset analysis\n",
    "dataset.describe()\n",
    "\n"
   ]
  },
  {
   "cell_type": "code",
   "execution_count": 22,
   "metadata": {},
   "outputs": [
    {
     "data": {
      "text/plain": [
       "n    2788\n",
       "y    1813\n",
       "Name: yesno, dtype: int64"
      ]
     },
     "execution_count": 22,
     "metadata": {},
     "output_type": "execute_result"
    }
   ],
   "source": [
    "# count for the column \"yesno\" (number of spam emails)\n",
    "# no = 0 , yes = 1\n",
    "dataset.yesno.value_counts()"
   ]
  },
  {
   "attachments": {},
   "cell_type": "markdown",
   "metadata": {},
   "source": [
    "> Q1: It has 4601 rows and 58 columns. \n",
    "> \n",
    "> The first column is the type of the email, and the rest are the features of the email. \n",
    "> \n",
    "> The features are the frequency of the words in the email. The type of the email is either ham or spam.\n",
    ">\n",
    "> It has 2788 \"no and 1813 \"yes\" for the target."
   ]
  },
  {
   "attachments": {},
   "cell_type": "markdown",
   "metadata": {
    "datalore": {
     "hide_input_from_viewers": false,
     "hide_output_from_viewers": false,
     "node_id": "nuCb1vxNvriTy2n7M3Pg6Z",
     "report_properties": {},
     "type": "MD"
    }
   },
   "source": [
    "SVM can be very long to fit when the dataset is big (number of examples, number of features).\n",
    "It is better to scale the features before fitting a model. A classical scaling is the standard scaler, which removes the mean and divide by the standard deviation. Hence, after this operation, each feature has a mean of zero and a standard deviation of 1. "
   ]
  },
  {
   "cell_type": "code",
   "execution_count": 23,
   "metadata": {
    "datalore": {
     "hide_input_from_viewers": false,
     "hide_output_from_viewers": false,
     "node_id": "J97fjGW2inqhf7acsg2jKQ",
     "report_properties": {},
     "type": "CODE"
    }
   },
   "outputs": [
    {
     "data": {
      "text/html": [
       "<div>\n",
       "<style scoped>\n",
       "    .dataframe tbody tr th:only-of-type {\n",
       "        vertical-align: middle;\n",
       "    }\n",
       "\n",
       "    .dataframe tbody tr th {\n",
       "        vertical-align: top;\n",
       "    }\n",
       "\n",
       "    .dataframe thead th {\n",
       "        text-align: right;\n",
       "    }\n",
       "</style>\n",
       "<table border=\"1\" class=\"dataframe\">\n",
       "  <thead>\n",
       "    <tr style=\"text-align: right;\">\n",
       "      <th></th>\n",
       "      <th>crl.tot</th>\n",
       "      <th>dollar</th>\n",
       "      <th>bang</th>\n",
       "      <th>money</th>\n",
       "      <th>n000</th>\n",
       "      <th>make</th>\n",
       "    </tr>\n",
       "  </thead>\n",
       "  <tbody>\n",
       "    <tr>\n",
       "      <th>count</th>\n",
       "      <td>4.601000e+03</td>\n",
       "      <td>4.601000e+03</td>\n",
       "      <td>4601.000000</td>\n",
       "      <td>4.601000e+03</td>\n",
       "      <td>4601.000000</td>\n",
       "      <td>4.601000e+03</td>\n",
       "    </tr>\n",
       "    <tr>\n",
       "      <th>mean</th>\n",
       "      <td>2.470916e-17</td>\n",
       "      <td>-2.470916e-17</td>\n",
       "      <td>0.000000</td>\n",
       "      <td>-2.470916e-17</td>\n",
       "      <td>0.000000</td>\n",
       "      <td>1.853187e-17</td>\n",
       "    </tr>\n",
       "    <tr>\n",
       "      <th>std</th>\n",
       "      <td>1.000109e+00</td>\n",
       "      <td>1.000109e+00</td>\n",
       "      <td>1.000109</td>\n",
       "      <td>1.000109e+00</td>\n",
       "      <td>1.000109</td>\n",
       "      <td>1.000109e+00</td>\n",
       "    </tr>\n",
       "    <tr>\n",
       "      <th>min</th>\n",
       "      <td>-4.656073e-01</td>\n",
       "      <td>-3.083549e-01</td>\n",
       "      <td>-0.329912</td>\n",
       "      <td>-2.129944e-01</td>\n",
       "      <td>-0.290209</td>\n",
       "      <td>-3.424337e-01</td>\n",
       "    </tr>\n",
       "    <tr>\n",
       "      <th>25%</th>\n",
       "      <td>-4.095278e-01</td>\n",
       "      <td>-3.083549e-01</td>\n",
       "      <td>-0.329912</td>\n",
       "      <td>-2.129944e-01</td>\n",
       "      <td>-0.290209</td>\n",
       "      <td>-3.424337e-01</td>\n",
       "    </tr>\n",
       "    <tr>\n",
       "      <th>50%</th>\n",
       "      <td>-3.105639e-01</td>\n",
       "      <td>-3.083549e-01</td>\n",
       "      <td>-0.329912</td>\n",
       "      <td>-2.129944e-01</td>\n",
       "      <td>-0.290209</td>\n",
       "      <td>-3.424337e-01</td>\n",
       "    </tr>\n",
       "    <tr>\n",
       "      <th>75%</th>\n",
       "      <td>-2.851691e-02</td>\n",
       "      <td>-9.684841e-02</td>\n",
       "      <td>0.056314</td>\n",
       "      <td>-2.129944e-01</td>\n",
       "      <td>-0.290209</td>\n",
       "      <td>-3.424337e-01</td>\n",
       "    </tr>\n",
       "    <tr>\n",
       "      <th>max</th>\n",
       "      <td>2.566085e+01</td>\n",
       "      <td>2.410845e+01</td>\n",
       "      <td>39.491909</td>\n",
       "      <td>2.803001e+01</td>\n",
       "      <td>15.270178</td>\n",
       "      <td>1.452700e+01</td>\n",
       "    </tr>\n",
       "  </tbody>\n",
       "</table>\n",
       "</div>"
      ],
      "text/plain": [
       "            crl.tot        dollar         bang         money         n000  \\\n",
       "count  4.601000e+03  4.601000e+03  4601.000000  4.601000e+03  4601.000000   \n",
       "mean   2.470916e-17 -2.470916e-17     0.000000 -2.470916e-17     0.000000   \n",
       "std    1.000109e+00  1.000109e+00     1.000109  1.000109e+00     1.000109   \n",
       "min   -4.656073e-01 -3.083549e-01    -0.329912 -2.129944e-01    -0.290209   \n",
       "25%   -4.095278e-01 -3.083549e-01    -0.329912 -2.129944e-01    -0.290209   \n",
       "50%   -3.105639e-01 -3.083549e-01    -0.329912 -2.129944e-01    -0.290209   \n",
       "75%   -2.851691e-02 -9.684841e-02     0.056314 -2.129944e-01    -0.290209   \n",
       "max    2.566085e+01  2.410845e+01    39.491909  2.803001e+01    15.270178   \n",
       "\n",
       "               make  \n",
       "count  4.601000e+03  \n",
       "mean   1.853187e-17  \n",
       "std    1.000109e+00  \n",
       "min   -3.424337e-01  \n",
       "25%   -3.424337e-01  \n",
       "50%   -3.424337e-01  \n",
       "75%   -3.424337e-01  \n",
       "max    1.452700e+01  "
      ]
     },
     "execution_count": 23,
     "metadata": {},
     "output_type": "execute_result"
    }
   ],
   "source": [
    "from sklearn.preprocessing import StandardScaler\n",
    "# First, get the features\n",
    "X = dataset.iloc[:,0:6]\n",
    "# then create a scaler on X\n",
    "scaler = StandardScaler().fit(X)\n",
    "# Apply it to X\n",
    "X = scaler.transform(X)\n",
    "# create a dataframe with X\n",
    "X = pd.DataFrame(X, columns=dataset.columns[0:6])\n",
    "X.describe()\n",
    "\n",
    "# You should see that the features have been transformed\n",
    "# print(X.dollar.mean())\n",
    "# the mean of feature 'dollar' is now 0 (very close to 0)\n",
    "# it is the same for the other features"
   ]
  },
  {
   "cell_type": "code",
   "execution_count": 24,
   "metadata": {
    "datalore": {
     "hide_input_from_viewers": false,
     "hide_output_from_viewers": false,
     "node_id": "9Wvr5iqVYhersSEBMqivBp",
     "report_properties": {},
     "type": "CODE"
    }
   },
   "outputs": [
    {
     "data": {
      "text/html": [
       "<div>\n",
       "<style scoped>\n",
       "    .dataframe tbody tr th:only-of-type {\n",
       "        vertical-align: middle;\n",
       "    }\n",
       "\n",
       "    .dataframe tbody tr th {\n",
       "        vertical-align: top;\n",
       "    }\n",
       "\n",
       "    .dataframe thead th {\n",
       "        text-align: right;\n",
       "    }\n",
       "</style>\n",
       "<table border=\"1\" class=\"dataframe\">\n",
       "  <thead>\n",
       "    <tr style=\"text-align: right;\">\n",
       "      <th></th>\n",
       "      <th>crl.tot</th>\n",
       "      <th>dollar</th>\n",
       "      <th>bang</th>\n",
       "      <th>money</th>\n",
       "      <th>n000</th>\n",
       "      <th>make</th>\n",
       "      <th>y</th>\n",
       "    </tr>\n",
       "  </thead>\n",
       "  <tbody>\n",
       "    <tr>\n",
       "      <th>0</th>\n",
       "      <td>-0.008724</td>\n",
       "      <td>-0.308355</td>\n",
       "      <td>0.624007</td>\n",
       "      <td>-0.212994</td>\n",
       "      <td>-0.290209</td>\n",
       "      <td>-0.342434</td>\n",
       "      <td>1</td>\n",
       "    </tr>\n",
       "    <tr>\n",
       "      <th>1</th>\n",
       "      <td>1.228324</td>\n",
       "      <td>0.423783</td>\n",
       "      <td>0.126203</td>\n",
       "      <td>0.758565</td>\n",
       "      <td>0.937491</td>\n",
       "      <td>0.345359</td>\n",
       "      <td>1</td>\n",
       "    </tr>\n",
       "    <tr>\n",
       "      <th>2</th>\n",
       "      <td>3.258733</td>\n",
       "      <td>0.440053</td>\n",
       "      <td>0.008496</td>\n",
       "      <td>-0.077428</td>\n",
       "      <td>3.021726</td>\n",
       "      <td>-0.145921</td>\n",
       "      <td>1</td>\n",
       "    </tr>\n",
       "    <tr>\n",
       "      <th>3</th>\n",
       "      <td>-0.152222</td>\n",
       "      <td>-0.308355</td>\n",
       "      <td>-0.161934</td>\n",
       "      <td>-0.212994</td>\n",
       "      <td>-0.290209</td>\n",
       "      <td>-0.342434</td>\n",
       "      <td>1</td>\n",
       "    </tr>\n",
       "    <tr>\n",
       "      <th>4</th>\n",
       "      <td>-0.152222</td>\n",
       "      <td>-0.308355</td>\n",
       "      <td>-0.164387</td>\n",
       "      <td>-0.212994</td>\n",
       "      <td>-0.290209</td>\n",
       "      <td>-0.342434</td>\n",
       "      <td>1</td>\n",
       "    </tr>\n",
       "    <tr>\n",
       "      <th>...</th>\n",
       "      <td>...</td>\n",
       "      <td>...</td>\n",
       "      <td>...</td>\n",
       "      <td>...</td>\n",
       "      <td>...</td>\n",
       "      <td>...</td>\n",
       "      <td>...</td>\n",
       "    </tr>\n",
       "    <tr>\n",
       "      <th>4596</th>\n",
       "      <td>-0.322110</td>\n",
       "      <td>-0.308355</td>\n",
       "      <td>-0.329912</td>\n",
       "      <td>-0.212994</td>\n",
       "      <td>-0.290209</td>\n",
       "      <td>0.672880</td>\n",
       "      <td>0</td>\n",
       "    </tr>\n",
       "    <tr>\n",
       "      <th>4597</th>\n",
       "      <td>-0.444165</td>\n",
       "      <td>-0.308355</td>\n",
       "      <td>0.102907</td>\n",
       "      <td>-0.212994</td>\n",
       "      <td>-0.290209</td>\n",
       "      <td>-0.342434</td>\n",
       "      <td>0</td>\n",
       "    </tr>\n",
       "    <tr>\n",
       "      <th>4598</th>\n",
       "      <td>-0.272628</td>\n",
       "      <td>-0.308355</td>\n",
       "      <td>-0.329912</td>\n",
       "      <td>-0.212994</td>\n",
       "      <td>-0.290209</td>\n",
       "      <td>0.640128</td>\n",
       "      <td>0</td>\n",
       "    </tr>\n",
       "    <tr>\n",
       "      <th>4599</th>\n",
       "      <td>-0.338604</td>\n",
       "      <td>-0.308355</td>\n",
       "      <td>-0.329912</td>\n",
       "      <td>-0.212994</td>\n",
       "      <td>-0.290209</td>\n",
       "      <td>2.801763</td>\n",
       "      <td>0</td>\n",
       "    </tr>\n",
       "    <tr>\n",
       "      <th>4600</th>\n",
       "      <td>-0.401281</td>\n",
       "      <td>-0.308355</td>\n",
       "      <td>-0.176648</td>\n",
       "      <td>-0.212994</td>\n",
       "      <td>-0.290209</td>\n",
       "      <td>-0.342434</td>\n",
       "      <td>0</td>\n",
       "    </tr>\n",
       "  </tbody>\n",
       "</table>\n",
       "<p>4601 rows × 7 columns</p>\n",
       "</div>"
      ],
      "text/plain": [
       "       crl.tot    dollar      bang     money      n000      make  y\n",
       "0    -0.008724 -0.308355  0.624007 -0.212994 -0.290209 -0.342434  1\n",
       "1     1.228324  0.423783  0.126203  0.758565  0.937491  0.345359  1\n",
       "2     3.258733  0.440053  0.008496 -0.077428  3.021726 -0.145921  1\n",
       "3    -0.152222 -0.308355 -0.161934 -0.212994 -0.290209 -0.342434  1\n",
       "4    -0.152222 -0.308355 -0.164387 -0.212994 -0.290209 -0.342434  1\n",
       "...        ...       ...       ...       ...       ...       ... ..\n",
       "4596 -0.322110 -0.308355 -0.329912 -0.212994 -0.290209  0.672880  0\n",
       "4597 -0.444165 -0.308355  0.102907 -0.212994 -0.290209 -0.342434  0\n",
       "4598 -0.272628 -0.308355 -0.329912 -0.212994 -0.290209  0.640128  0\n",
       "4599 -0.338604 -0.308355 -0.329912 -0.212994 -0.290209  2.801763  0\n",
       "4600 -0.401281 -0.308355 -0.176648 -0.212994 -0.290209 -0.342434  0\n",
       "\n",
       "[4601 rows x 7 columns]"
      ]
     },
     "execution_count": 24,
     "metadata": {},
     "output_type": "execute_result"
    }
   ],
   "source": [
    "# Now we will add the target variable inside X\n",
    "X['y'] = dataset.y\n",
    "X\n",
    "# now our dataset is called X"
   ]
  },
  {
   "attachments": {},
   "cell_type": "markdown",
   "metadata": {
    "datalore": {
     "hide_input_from_viewers": false,
     "hide_output_from_viewers": false,
     "node_id": "kQKmNaDyYkq5VDmboCbI4C",
     "report_properties": {},
     "type": "MD"
    }
   },
   "source": [
    "<font color=\"blue\">todo:</font>  Split this dataset into training/validation/test "
   ]
  },
  {
   "cell_type": "code",
   "execution_count": 25,
   "metadata": {
    "datalore": {
     "hide_input_from_viewers": false,
     "hide_output_from_viewers": false,
     "node_id": "690Mhtm2bBrDhBjry4M7T7",
     "report_properties": {},
     "type": "CODE"
    }
   },
   "outputs": [],
   "source": [
    "# train/validation/test splitting\n",
    "\n",
    "X_data, X_test = train_test_split(X, test_size=0.3, random_state=42)\n",
    "X_test, X_validation = train_test_split(X_test, test_size=0.5, random_state=42)"
   ]
  },
  {
   "attachments": {},
   "cell_type": "markdown",
   "metadata": {
    "datalore": {
     "hide_input_from_viewers": false,
     "hide_output_from_viewers": false,
     "node_id": "DfxleEk5R5qqTV1kY6B6ia",
     "report_properties": {},
     "type": "MD"
    }
   },
   "source": [
    "<font color=\"red\">**Question 2:**</font> \n",
    " - Fit a first linear SVM model with C = 1\n",
    " - How many support vectors are selected ?\n",
    " - What is the performance of this model on the training set ? on the test set ?\n",
    " - What is the confusion matrix of the predictions of the test set ? What kind of errors is more often made? (check <code>confusion_matrix</code> function for that)"
   ]
  },
  {
   "cell_type": "code",
   "execution_count": 26,
   "metadata": {
    "datalore": {
     "hide_input_from_viewers": false,
     "hide_output_from_viewers": false,
     "node_id": "BZs8H4drBSdUPIQT0LQ1hm",
     "report_properties": {},
     "type": "CODE"
    }
   },
   "outputs": [
    {
     "name": "stdout",
     "output_type": "stream",
     "text": [
      "Support Vectors :\n"
     ]
    },
    {
     "data": {
      "image/png": "[encoded data removed]",
      "text/plain": [
       "<Figure size 1000x800 with 1 Axes>"
      ]
     },
     "metadata": {},
     "output_type": "display_data"
    }
   ],
   "source": [
    "# Fit a linear SVM model with C = 1\n",
    "model_svm_Q2 = svm.SVC(C = 1, kernel = 'linear')\n",
    "model_svm_Q2.fit(X_data.iloc[:,0:2], X_data.y)\n",
    "svm_draw(model_svm_Q2, -1, 17, X_data)\n",
    "\n",
    "# Support vectors with C=1\n",
    "print(\"Support Vectors :\")\n",
    "indexes = model_svm_Q2.support_"
   ]
  },
  {
   "attachments": {},
   "cell_type": "markdown",
   "metadata": {
    "datalore": {
     "hide_input_from_viewers": false,
     "hide_output_from_viewers": false,
     "node_id": "fmqtp0wCV5iC5PYS5xU5ml",
     "report_properties": {},
     "type": "MD"
    }
   },
   "source": [
    "<font color=\"blue\">**Todo:**</font>  \n",
    "- Try different values of C (between 0.01 and 1000 for instance, by order of magnitude) and compute the training and validation scores for each value of C (use a'for' loop). \n",
    "- Select the best value of C and estimate the generalization error of the selected SVM."
   ]
  },
  {
   "cell_type": "code",
   "execution_count": 27,
   "metadata": {
    "datalore": {
     "hide_input_from_viewers": false,
     "hide_output_from_viewers": false,
     "node_id": "W4mhNVedGZo7KWFsf1bFvL",
     "report_properties": {},
     "type": "CODE"
    }
   },
   "outputs": [
    {
     "name": "stdout",
     "output_type": "stream",
     "text": [
      "[0.22865412445730826, 0.19971056439942114, 0.19971056439942114, 0.19826338639652674, 0.20115774240231543, 0.20115774240231543, 0.20115774240231543, 0.20115774240231543]\n"
     ]
    }
   ],
   "source": [
    "# TODO - this can take some computing time\n",
    "Cs = [0.01, 0.1, .5,  1, 2, 10, 100, 1000]\n",
    "errors = []\n",
    "for C in Cs:\n",
    "    model_svm_Q2 = svm.SVC(C = C, kernel = 'linear')\n",
    "    model_svm_Q2.fit(X_data.iloc[:,0:2], X_data.y)\n",
    "    errors.append(1 - model_svm_Q2.score(X_validation.iloc[:,0:2], X_validation.y))\n",
    "\n",
    "print(errors)    "
   ]
  },
  {
   "cell_type": "code",
   "execution_count": 28,
   "metadata": {
    "datalore": {
     "hide_input_from_viewers": false,
     "hide_output_from_viewers": false,
     "node_id": "JohgzfuqM1xpEyJZve8STp",
     "report_properties": {},
     "type": "CODE"
    }
   },
   "outputs": [
    {
     "data": {
      "text/plain": [
       "Text(0, 0.5, 'Generalization error')"
      ]
     },
     "execution_count": 28,
     "metadata": {},
     "output_type": "execute_result"
    },
    {
     "data": {
      "image/png": "[encoded data removed]",
      "text/plain": [
       "<Figure size 640x480 with 1 Axes>"
      ]
     },
     "metadata": {},
     "output_type": "display_data"
    }
   ],
   "source": [
    "# TODO - estimate the generalization error of the selected SVM\n",
    "Cs_string = [str(c) for c in Cs] \n",
    "plt.plot(Cs_string, errors)\n",
    "plt.xlabel(\"C\")\n",
    "plt.ylabel(\"Generalization error\")\n"
   ]
  },
  {
   "attachments": {},
   "cell_type": "markdown",
   "metadata": {
    "datalore": {
     "hide_input_from_viewers": false,
     "hide_output_from_viewers": false,
     "node_id": "7sw8CmSndVv3iJzSGFfw4A",
     "report_properties": {},
     "type": "MD"
    }
   },
   "source": [
    "<font color=\"red\">**Question 3:**</font> \n",
    "- give the best C value\n",
    "- compare the generalization error using this tuned value and the default value (C=1)"
   ]
  },
  {
   "attachments": {},
   "cell_type": "markdown",
   "metadata": {},
   "source": [
    "> Q3: The best C value is 1, because the generalisation is the lowest.\n",
    ">\n",
    "> We can say that the default value is a great choice for this dataset."
   ]
  },
  {
   "attachments": {},
   "cell_type": "markdown",
   "metadata": {
    "datalore": {
     "hide_input_from_viewers": false,
     "hide_output_from_viewers": false,
     "node_id": "ollxWvKByXvqmbQtCZ7hUZ",
     "report_properties": {},
     "type": "MD"
    }
   },
   "source": [
    "# <font color=\"#1E90FF\">Exercise 3: Non-linear SVM</font>\n",
    "\n",
    "We move here on SVM using kernel functions.\n",
    "\n",
    "## <font color=\"#9400D3\">1. Data analysis</font>"
   ]
  },
  {
   "cell_type": "code",
   "execution_count": 29,
   "metadata": {
    "datalore": {
     "hide_input_from_viewers": false,
     "hide_output_from_viewers": false,
     "node_id": "HImm4jDhjO8ULPqyc7VTNs",
     "report_properties": {},
     "type": "CODE"
    }
   },
   "outputs": [
    {
     "data": {
      "text/html": [
       "<div>\n",
       "<style scoped>\n",
       "    .dataframe tbody tr th:only-of-type {\n",
       "        vertical-align: middle;\n",
       "    }\n",
       "\n",
       "    .dataframe tbody tr th {\n",
       "        vertical-align: top;\n",
       "    }\n",
       "\n",
       "    .dataframe thead th {\n",
       "        text-align: right;\n",
       "    }\n",
       "</style>\n",
       "<table border=\"1\" class=\"dataframe\">\n",
       "  <thead>\n",
       "    <tr style=\"text-align: right;\">\n",
       "      <th></th>\n",
       "      <th>x1</th>\n",
       "      <th>x2</th>\n",
       "      <th>y</th>\n",
       "    </tr>\n",
       "  </thead>\n",
       "  <tbody>\n",
       "    <tr>\n",
       "      <th>0</th>\n",
       "      <td>1.5</td>\n",
       "      <td>4.0</td>\n",
       "      <td>1</td>\n",
       "    </tr>\n",
       "    <tr>\n",
       "      <th>1</th>\n",
       "      <td>1.0</td>\n",
       "      <td>2.0</td>\n",
       "      <td>1</td>\n",
       "    </tr>\n",
       "    <tr>\n",
       "      <th>2</th>\n",
       "      <td>0.0</td>\n",
       "      <td>0.0</td>\n",
       "      <td>1</td>\n",
       "    </tr>\n",
       "    <tr>\n",
       "      <th>3</th>\n",
       "      <td>1.0</td>\n",
       "      <td>4.0</td>\n",
       "      <td>1</td>\n",
       "    </tr>\n",
       "    <tr>\n",
       "      <th>4</th>\n",
       "      <td>0.5</td>\n",
       "      <td>3.0</td>\n",
       "      <td>1</td>\n",
       "    </tr>\n",
       "    <tr>\n",
       "      <th>...</th>\n",
       "      <td>...</td>\n",
       "      <td>...</td>\n",
       "      <td>...</td>\n",
       "    </tr>\n",
       "    <tr>\n",
       "      <th>145</th>\n",
       "      <td>-2.8</td>\n",
       "      <td>-3.3</td>\n",
       "      <td>0</td>\n",
       "    </tr>\n",
       "    <tr>\n",
       "      <th>146</th>\n",
       "      <td>-2.8</td>\n",
       "      <td>1.0</td>\n",
       "      <td>0</td>\n",
       "    </tr>\n",
       "    <tr>\n",
       "      <th>147</th>\n",
       "      <td>-2.8</td>\n",
       "      <td>3.0</td>\n",
       "      <td>0</td>\n",
       "    </tr>\n",
       "    <tr>\n",
       "      <th>148</th>\n",
       "      <td>-2.4</td>\n",
       "      <td>3.0</td>\n",
       "      <td>0</td>\n",
       "    </tr>\n",
       "    <tr>\n",
       "      <th>149</th>\n",
       "      <td>-2.3</td>\n",
       "      <td>5.0</td>\n",
       "      <td>0</td>\n",
       "    </tr>\n",
       "  </tbody>\n",
       "</table>\n",
       "<p>150 rows × 3 columns</p>\n",
       "</div>"
      ],
      "text/plain": [
       "      x1   x2  y\n",
       "0    1.5  4.0  1\n",
       "1    1.0  2.0  1\n",
       "2    0.0  0.0  1\n",
       "3    1.0  4.0  1\n",
       "4    0.5  3.0  1\n",
       "..   ...  ... ..\n",
       "145 -2.8 -3.3  0\n",
       "146 -2.8  1.0  0\n",
       "147 -2.8  3.0  0\n",
       "148 -2.4  3.0  0\n",
       "149 -2.3  5.0  0\n",
       "\n",
       "[150 rows x 3 columns]"
      ]
     },
     "execution_count": 29,
     "metadata": {},
     "output_type": "execute_result"
    }
   ],
   "source": [
    "# Load a dataset\n",
    "#dataset = pd.read_csv(\"./data/SepNonLineaire.csv\")\n",
    "dataset = pd.read_csv(\"./SepNonLineaire.csv\")\n",
    "dataset"
   ]
  },
  {
   "attachments": {},
   "cell_type": "markdown",
   "metadata": {
    "datalore": {
     "hide_input_from_viewers": false,
     "hide_output_from_viewers": false,
     "node_id": "o0HdSsWEsovtoPoha5G2N6",
     "report_properties": {},
     "type": "MD"
    }
   },
   "source": [
    "<font color=\"red\">**Question 1:**</font> How many examples? features? distribution of the target values ?"
   ]
  },
  {
   "cell_type": "code",
   "execution_count": 30,
   "metadata": {
    "datalore": {
     "hide_input_from_viewers": false,
     "hide_output_from_viewers": false,
     "node_id": "C6ktM6DN0hR1iFwgrUnYOb",
     "report_properties": {},
     "type": "CODE"
    }
   },
   "outputs": [
    {
     "name": "stdout",
     "output_type": "stream",
     "text": [
      "Numbers of example : 150\n",
      "Features : 1, 0\n",
      "0    105\n",
      "1     45\n",
      "Name: y, dtype: int64\n"
     ]
    }
   ],
   "source": [
    "print(\"Numbers of example : 150\")\n",
    "print(\"Features : 1, 0\")\n",
    "\n",
    "# Distribution \n",
    "dataset.describe()\n",
    "print(dataset.y.value_counts())"
   ]
  },
  {
   "cell_type": "code",
   "execution_count": 31,
   "metadata": {
    "datalore": {
     "hide_input_from_viewers": false,
     "hide_output_from_viewers": false,
     "node_id": "fjBkjGazRucM0WyXDQuxFc",
     "report_properties": {},
     "type": "CODE"
    }
   },
   "outputs": [
    {
     "data": {
      "image/png": "[encoded data removed]",
      "text/plain": [
       "<Figure size 640x480 with 1 Axes>"
      ]
     },
     "metadata": {},
     "output_type": "display_data"
    }
   ],
   "source": [
    "sns.scatterplot(data=dataset, x='x1', y='x2', hue='y', palette=sns.color_palette(\"deep\")[0:2][::-1])\n",
    "legend = plt.legend(frameon=True)\n",
    "legend.get_frame().set_facecolor('white')\n",
    "legend.get_frame().set_edgecolor('b')"
   ]
  },
  {
   "attachments": {},
   "cell_type": "markdown",
   "metadata": {
    "datalore": {
     "hide_input_from_viewers": false,
     "hide_output_from_viewers": false,
     "node_id": "o6rF0Uc3UDDX5RxIBgv84w",
     "report_properties": {},
     "type": "MD"
    }
   },
   "source": [
    "<font color=\"red\">**Question 2:**</font> Is this dataset linearly separable ?"
   ]
  },
  {
   "attachments": {},
   "cell_type": "markdown",
   "metadata": {},
   "source": [
    "> Q2: Visually, it is not linearly separable. We can clearly see that there are two classes, and that the boundary between the two classes is not linear."
   ]
  },
  {
   "cell_type": "code",
   "execution_count": 32,
   "metadata": {
    "datalore": {
     "hide_input_from_viewers": false,
     "hide_output_from_viewers": false,
     "node_id": "JdGgzpjnLNiN3mRUNP046X",
     "report_properties": {},
     "type": "CODE"
    }
   },
   "outputs": [],
   "source": [
    "#  Split this dataset into training/validation/test\n",
    "X_data, X_test = train_test_split(dataset, test_size=0.3, random_state=42)\n",
    "X_test, X_validation = train_test_split(X_test, test_size=0.5, random_state=42)\n"
   ]
  },
  {
   "attachments": {},
   "cell_type": "markdown",
   "metadata": {
    "datalore": {
     "hide_input_from_viewers": false,
     "hide_output_from_viewers": false,
     "node_id": "XqWbs2CcQGLqVpu6F0ZxRN",
     "report_properties": {},
     "type": "MD"
    }
   },
   "source": [
    "## <font color=\"#9400D3\">2. Linear SVM</font>\n",
    "\n",
    "<font color=\"blue\">**Todo:**</font> try a linear SVM, compute the real error, and draw the boundaries, just to see."
   ]
  },
  {
   "cell_type": "code",
   "execution_count": 33,
   "metadata": {
    "datalore": {
     "hide_input_from_viewers": false,
     "hide_output_from_viewers": false,
     "node_id": "CFZQVZWxPiO1EYybYpGuNu",
     "report_properties": {},
     "type": "CODE"
    }
   },
   "outputs": [
    {
     "data": {
      "image/png": "[encoded data removed]",
      "text/plain": [
       "<Figure size 1000x800 with 1 Axes>"
      ]
     },
     "metadata": {},
     "output_type": "display_data"
    }
   ],
   "source": [
    "# linear SVM\n",
    "model_svm = svm.SVC(C = 1, kernel = 'linear')\n",
    "model_svm.fit(X_data.iloc[:,0:2], X_data.y)\n",
    "# draw the boundaries\n",
    "svm_draw(model_svm, -75000, 75000, X_data)"
   ]
  },
  {
   "attachments": {},
   "cell_type": "markdown",
   "metadata": {},
   "source": [
    "We can notice that the boundary is far from the data. This is because the data is not linearly separable."
   ]
  },
  {
   "attachments": {},
   "cell_type": "markdown",
   "metadata": {
    "datalore": {
     "hide_input_from_viewers": false,
     "hide_output_from_viewers": false,
     "node_id": "VAKPpuV9GYPRXdbquwUN3u",
     "report_properties": {},
     "type": "MD"
    }
   },
   "source": [
    "## <font color=\"#9400D3\">3. Radial SVM</font>\n",
    "\n",
    "We will apply a radial SVM (with rbf kernel).\n",
    "For this, you just need to specify <code>kernel = 'rbf'</code> rather than <code>kernel = 'linear'</code>.\n",
    "And you'll also need to set a value for gamma (otherwise there is a default value)\n",
    "\n",
    "<font color=\"blue\">**Todo:**</font> \n",
    " - Fit a rbf SVM with C = 1 and gamma = 10\n",
    " - Compute train and validation scores\n",
    " - Plot the decision boundaries and the margins using the function <code>draw_boundary</code> above\n",
    " \n",
    "<font color=\"red\">**Question 3:**</font> \n",
    "What phenomenon can you observe here ?"
   ]
  },
  {
   "cell_type": "code",
   "execution_count": 34,
   "metadata": {},
   "outputs": [],
   "source": [
    "X_data, X_test = train_test_split(dataset, test_size=0.3, random_state=42)\n",
    "X_test, X_validation = train_test_split(X_test, test_size=0.5, random_state=42)"
   ]
  },
  {
   "cell_type": "code",
   "execution_count": 35,
   "metadata": {},
   "outputs": [
    {
     "data": {
      "text/plain": [
       "SVC(C=1, gamma=10)"
      ]
     },
     "execution_count": 35,
     "metadata": {},
     "output_type": "execute_result"
    }
   ],
   "source": [
    "# Fit a radial SVM\n",
    "# Fit a rbf SVM with C = 1 and gamma = 10\n",
    "model_svm_radial = svm.SVC(C = 1, gamma=10, kernel = 'rbf')\n",
    "model_svm_radial.fit(X_data.iloc[:,0:2], X_data.y)\n",
    "\n",
    "#  Compute train and validation scores\n",
    "\n",
    "# valid_score = model_svm_radial.score(X_validation.iloc[:,0:2], X_validation.y)\n",
    "#print(\"Validation score : \", valid_score)"
   ]
  },
  {
   "cell_type": "code",
   "execution_count": 36,
   "metadata": {
    "datalore": {
     "hide_input_from_viewers": false,
     "hide_output_from_viewers": false,
     "node_id": "nKsastga1eawPv84gvoj85",
     "report_properties": {},
     "type": "CODE"
    }
   },
   "outputs": [],
   "source": [
    "def draw_boundary(model, data, x_min, x_max, y_min, y_max):\n",
    "    h = 0.1\n",
    "    xx, yy = np.meshgrid(np.arange(x_min, x_max, h), np.arange(y_min, y_max, h))\n",
    "    zz = np.c_[xx.ravel(), yy.ravel()]\n",
    "    zz = pd.DataFrame(zz)\n",
    "    zz2 = zz\n",
    "    pred_zz= pd.Series(model.predict(zz2))\n",
    "    color_map = matplotlib.colors.ListedColormap(pd.Series(['blue', 'red']))\n",
    "    fig = plt.figure(figsize=  (8,8))\n",
    "    fig = plt.scatter(zz.iloc[:,0], zz.iloc[:,1], c = pred_zz, cmap = color_map, marker='+')\n",
    "    fig = plt.scatter(data.iloc[:,0], data.iloc[:,1], s = 50, c = data.iloc[:,2], cmap = color_map)\n",
    "    "
   ]
  },
  {
   "cell_type": "code",
   "execution_count": 37,
   "metadata": {
    "datalore": {
     "hide_input_from_viewers": false,
     "hide_output_from_viewers": false,
     "node_id": "WIYnqA4enpHmKa23HIZQde",
     "report_properties": {},
     "type": "CODE"
    }
   },
   "outputs": [
    {
     "name": "stderr",
     "output_type": "stream",
     "text": [
      "C:\\Users\\dounk\\AppData\\Local\\Packages\\PythonSoftwareFoundation.Python.3.9_qbz5n2kfra8p0\\LocalCache\\local-packages\\Python39\\site-packages\\sklearn\\base.py:450: UserWarning: X does not have valid feature names, but SVC was fitted with feature names\n",
      "  warnings.warn(\n"
     ]
    },
    {
     "data": {
      "image/png": "[encoded data removed]",
      "text/plain": [
       "<Figure size 800x800 with 1 Axes>"
      ]
     },
     "metadata": {},
     "output_type": "display_data"
    }
   ],
   "source": [
    "draw_boundary(model_svm_radial, X_data, -3, 4, -5, 9)"
   ]
  },
  {
   "attachments": {},
   "cell_type": "markdown",
   "metadata": {
    "datalore": {
     "hide_input_from_viewers": false,
     "hide_output_from_viewers": false,
     "node_id": "wNZkn7kmlMsrRT6j5mXljU",
     "report_properties": {},
     "type": "MD"
    }
   },
   "source": [
    "<font color=\"blue\">**Todo:**</font>\n",
    "- Try now to modify C and gamma to have a better decision boundary\n",
    "- Choose the best values of C and gamma \n",
    "- Estimate the generalization error of this SVM\n",
    "- draw the boundaries"
   ]
  },
  {
   "cell_type": "code",
   "execution_count": 38,
   "metadata": {
    "datalore": {
     "hide_input_from_viewers": false,
     "hide_output_from_viewers": false,
     "node_id": "SKHrsRfMSluHYiu7fseCWQ",
     "report_properties": {},
     "type": "CODE"
    }
   },
   "outputs": [],
   "source": [
    "# search for best C and gamma values using validation set\n",
    "Cs = [0.1, 0.5, 0.8, 1, 2, 10, 100, 1000]\n",
    "Gs = [1,2,4,6,8, 10, 20, 100]\n",
    "errors = []\n",
    "min_error = 1\n",
    "best_C = 0\n",
    "best_gamma = 0\n",
    "best_model = None\n",
    "for C in Cs :\n",
    "    for gamma in Gs :\n",
    "        model_svm_radial = svm.SVC(C = C, gamma=gamma, kernel = 'rbf')\n",
    "        model_svm_radial.fit(X_data.iloc[:,0:2], X_data.y)\n",
    "\n",
    "        # generalization error estimation\n",
    "        score = model_svm_radial.score(X_validation.iloc[:,0:2], X_validation.y)\n",
    "        err = 1 - score\n",
    "\n",
    "        errors.append(err)\n",
    "        if err < min_error or best_model == None :\n",
    "            min_error = err\n",
    "            best_C = C\n",
    "            best_gamma = gamma\n",
    "            best_model = model_svm_radial\n",
    "        #print(\"C = \", C, \"gamma = \", gamma, \"Validation score : \", score)"
   ]
  },
  {
   "cell_type": "code",
   "execution_count": 39,
   "metadata": {},
   "outputs": [
    {
     "data": {
      "text/plain": [
       "Text(0, 0.5, 'Generalization error')"
      ]
     },
     "execution_count": 39,
     "metadata": {},
     "output_type": "execute_result"
    },
    {
     "data": {
      "image/png": "[encoded data removed]",
      "text/plain": [
       "<Figure size 640x480 with 1 Axes>"
      ]
     },
     "metadata": {},
     "output_type": "display_data"
    }
   ],
   "source": [
    "plt.plot(errors)\n",
    "plt.title(\"Generalization error\")\n",
    "plt.xlabel(\"C and gamma index\")\n",
    "plt.ylabel(\"Generalization error\")"
   ]
  },
  {
   "cell_type": "code",
   "execution_count": 40,
   "metadata": {},
   "outputs": [
    {
     "name": "stdout",
     "output_type": "stream",
     "text": [
      "Best C =  0.8\n",
      "Best gamma =  1\n",
      "Best error =  0.0\n"
     ]
    }
   ],
   "source": [
    "print(\"Best C = \", best_C)\n",
    "print(\"Best gamma = \", best_gamma)\n",
    "print(\"Best error = \", min_error)"
   ]
  },
  {
   "cell_type": "code",
   "execution_count": 41,
   "metadata": {},
   "outputs": [
    {
     "name": "stderr",
     "output_type": "stream",
     "text": [
      "C:\\Users\\dounk\\AppData\\Local\\Packages\\PythonSoftwareFoundation.Python.3.9_qbz5n2kfra8p0\\LocalCache\\local-packages\\Python39\\site-packages\\sklearn\\base.py:450: UserWarning: X does not have valid feature names, but SVC was fitted with feature names\n",
      "  warnings.warn(\n"
     ]
    },
    {
     "data": {
      "image/png": "[encoded data removed]",
      "text/plain": [
       "<Figure size 800x800 with 1 Axes>"
      ]
     },
     "metadata": {},
     "output_type": "display_data"
    }
   ],
   "source": [
    "# draw the boundaries\n",
    "draw_boundary(best_model, X_data, -3, 4, -5, 9)\n"
   ]
  },
  {
   "attachments": {},
   "cell_type": "markdown",
   "metadata": {
    "datalore": {
     "hide_input_from_viewers": false,
     "hide_output_from_viewers": false,
     "node_id": "MpVzB6r8kUsks4Gjmjmmjh",
     "report_properties": {},
     "type": "MD"
    }
   },
   "source": [
    "<font color=\"blue\">**Todo:**</font> You can also try polynomial kernels by specifying <code>kernel = 'poly'</code>. You'll have to tune the parameter <code>'degree'</code> with this kernel.\n",
    "\n",
    "Note that in SVC, polynomial kernel is defined as: $$ K(x,x')=(\\gamma (x.x') + r)^d$$ where $d$ is specified by parameter <code>degree</code>, r by <code>coef0</code> (default=0.0)."
   ]
  },
  {
   "cell_type": "code",
   "execution_count": 51,
   "metadata": {
    "datalore": {
     "hide_input_from_viewers": false,
     "hide_output_from_viewers": false,
     "node_id": "H4BaW3TiwSdr4bQ1qn2dle",
     "report_properties": {},
     "type": "CODE"
    }
   },
   "outputs": [
    {
     "name": "stdout",
     "output_type": "stream",
     "text": [
      "0.782608695652174\n",
      "[0.21739130434782605]\n"
     ]
    }
   ],
   "source": [
    "# TODO - Fit a polynomial kernel. Find the best C and degree using validation set\n",
    "# Polynomial kernel with SVM, degre = 2 :\n",
    "\n",
    "# TODO - search for best C and gamma values using validation set\n",
    "deg = [1,2,4,6,8, 10, 20, 100]\n",
    "errorsPoly = []\n",
    "for d in deg :\n",
    "        model_svm_poly = svm.SVC(kernel = 'poly', degree=d)\n",
    "        model_svm_poly.fit(X_data.iloc[:,0:2], X_data.y)\n",
    "\n",
    "        # TODO - generalization error estimation\n",
    "        score = model_svm_poly.score(X_validation.iloc[:,0:2], X_validation.y)\n",
    "        errorsPoly.append(1 - score)\n",
    "\n",
    "print(errorsPoly)"
   ]
  },
  {
   "attachments": {},
   "cell_type": "markdown",
   "metadata": {
    "datalore": {
     "hide_input_from_viewers": false,
     "hide_output_from_viewers": false,
     "node_id": "0R9PC2sNT5qxKGJ0ESH916",
     "report_properties": {},
     "type": "MD"
    }
   },
   "source": [
    "<font color=\"red\">**Question 4:**</font> \n",
    "- Which are finally the best hyper-parameters?\n",
    "- Evaluate the final model on the test set."
   ]
  },
  {
   "attachments": {},
   "cell_type": "markdown",
   "metadata": {
    "datalore": {
     "hide_input_from_viewers": false,
     "hide_output_from_viewers": false,
     "node_id": "W9Glk9s43R5X3fnc3ilZFB",
     "report_properties": {},
     "type": "MD"
    }
   },
   "source": [
    "## <font color=\"#9400D3\">4. Expert mode</font>\n",
    "\n",
    "When tuning the hyper-parameters with a validation set, rather than using several 'for', scikit learn offers a <code>GridSearchCV(estimator, param_grid)</code> function : https://scikit-learn.org/stable/modules/generated/sklearn.model_selection.GridSearchCV.html\n",
    "\n",
    "The parameters of the estimator (classifier) are optimized by **cross-validated** grid-search over a parameter grid. Candidates are exhaustively generated from a grid of parameter values specified with the <code>param_grid</code> parameter."
   ]
  },
  {
   "cell_type": "code",
   "execution_count": null,
   "metadata": {
    "datalore": {
     "hide_input_from_viewers": false,
     "hide_output_from_viewers": false,
     "node_id": "XaTY6aQ4CBAQLgZ6CuceBI",
     "report_properties": {},
     "type": "CODE"
    }
   },
   "outputs": [],
   "source": [
    "param_grid = [\n",
    "              {'C': [1, 10, 100, 1000], 'kernel': ['linear']},\n",
    "              {'C': [1, 10, 100, 1000], 'degree': [2, 3, 4], 'kernel': ['poly']},\n",
    "              {'C': [1, 10, 100, 1000], 'gamma': [0.01, 0.1, 1.0], 'kernel': ['rbf']},\n",
    "              ]\n",
    "print(\"\\n # Tuning hyper-parameters\")\n",
    "clf = GridSearchCV(svm.SVC(), param_grid, cv=5)\n",
    "clf.fit(train_set.iloc[:,:2], train_set.y)\n",
    "\n",
    "\n",
    "print(\"Best parameters set found on training set:\")\n",
    "print(clf.best_params_)\n",
    "\n",
    "y_pred = clf.predict(test_set.iloc[:,:2])\n",
    "print(\"\\n SVM on test set (parameter tuning) : \\t\", accuracy_score(test_set.y, y_pred), \"\\n\")"
   ]
  },
  {
   "attachments": {},
   "cell_type": "markdown",
   "metadata": {
    "datalore": {
     "hide_input_from_viewers": false,
     "hide_output_from_viewers": false,
     "node_id": "YpzxNDc3zuPUit9vYGkX00",
     "report_properties": {},
     "type": "MD"
    }
   },
   "source": [
    "<font color=\"red\">**Question 5:**</font> \n",
    "- Explain how many learning are done in the above procedure.\n",
    "- How the (hyper)-parameter are selected?\n",
    "- Does that match your previous study?"
   ]
  }
 ],
 "metadata": {
  "datalore": {
   "base_environment": "default",
   "computation_mode": "JUPYTER",
   "package_manager": "pip",
   "packages": [],
   "version": 1
  },
  "kernelspec": {
   "display_name": "Python 3",
   "language": "python",
   "name": "python3"
  },
  "language_info": {
   "codemirror_mode": {
    "name": "ipython",
    "version": 3
   },
   "file_extension": ".py",
   "mimetype": "text/x-python",
   "name": "python",
   "nbconvert_exporter": "python",
   "pygments_lexer": "ipython3",
   "version": "3.9.13"
  },
  "vscode": {
   "interpreter": {
    "hash": "1b6d34a268b71b57a0cf1eb897f81014af16cd1ba7e47d8f29dddd337f06dda0"
   }
  }
 },
 "nbformat": 4,
 "nbformat_minor": 4
}
