{
 "cells": [
  {
   "cell_type": "code",
   "execution_count": null,
   "metadata": {
    "datalore": {
     "hide_input_from_viewers": false,
     "hide_output_from_viewers": false,
     "node_id": "e3hPwez8boRXKJsIbw7vih",
     "report_properties": {},
     "type": "CODE"
    }
   },
   "outputs": [],
   "source": [
    "import numpy as np\n",
    "import pandas as pd\n",
    "import matplotlib.pyplot as plt\n",
    "import matplotlib\n",
    "import seaborn as sns\n",
    "from sklearn.model_selection import train_test_split\n",
    "from sklearn.metrics import confusion_matrix\n",
    "from sklearn.metrics import accuracy_score\n",
    "from sklearn import svm\n",
    "from sklearn.model_selection import GridSearchCV"
   ]
  },
  {
   "attachments": {},
   "cell_type": "markdown",
   "metadata": {
    "datalore": {
     "hide_input_from_viewers": false,
     "hide_output_from_viewers": false,
     "node_id": "aRPAKzbUeqgBZzSiCm36Y4",
     "report_properties": {},
     "type": "MD"
    }
   },
   "source": [
    "<font  style=\"font-size: 4rem; color: #1abc9c\"> SVM </font>\n",
    "\n",
    "# <font color=\"#1E90FF\">Exercise 1. Linear SVM - Influence of hyper-parameter C</font>\n",
    "\n",
    "## <font color=\"#9400D3\">1. Load, analyze and visualize data</font>\n",
    "\n",
    "Warning: in this particular exercise, we will not split the dataset in train/val/test."
   ]
  },
  {
   "cell_type": "code",
   "execution_count": null,
   "metadata": {
    "datalore": {
     "hide_input_from_viewers": false,
     "hide_output_from_viewers": false,
     "node_id": "3E8icjiWtE28fgqZ300H0R",
     "report_properties": {},
     "type": "CODE"
    }
   },
   "outputs": [],
   "source": [
    "dataset = pd.read_csv('./LineaireNoisy.txt', delimiter='\\t')\n",
    "dataset"
   ]
  },
  {
   "attachments": {},
   "cell_type": "markdown",
   "metadata": {
    "datalore": {
     "hide_input_from_viewers": false,
     "hide_output_from_viewers": false,
     "node_id": "f57TUyCFYJxkkIAYQsVMRZ",
     "report_properties": {},
     "type": "MD"
    }
   },
   "source": [
    "<font color=\"red\">**Question 1:**</font> \n",
    "- How many examples $\\boldsymbol{x}^{(1)}, \\boldsymbol{x}^{(2)},...\\boldsymbol{x}^{(n)}$ in the dataset?\n",
    "- How many features $x_1, x_2,...x_d$ ? What are their types? Their distribution?\n",
    "- What are the classes?\n",
    "- What is the class distribution over the dataset?"
   ]
  },
  {
   "cell_type": "code",
   "execution_count": null,
   "metadata": {
    "datalore": {
     "hide_input_from_viewers": true,
     "hide_output_from_viewers": true,
     "node_id": "14Gv6EwaVLUsMLiycoFytk",
     "type": "CODE"
    }
   },
   "outputs": [],
   "source": [
    "print(\"number of examples: \", dataset.shape[0])\n",
    "print(\"number of features: \", dataset.shape[1])\n",
    "print(\"Classes: \", dataset['y'].unique())\n",
    "print(\"Distribution of classes :\") \n",
    "print(dataset['y'].value_counts())"
   ]
  },
  {
   "attachments": {},
   "cell_type": "markdown",
   "metadata": {
    "datalore": {
     "hide_input_from_viewers": false,
     "hide_output_from_viewers": false,
     "node_id": "suIsEE1E4BtMfPuUIGTgqq",
     "report_properties": {},
     "type": "MD"
    }
   },
   "source": [
    "### Plotting the dataset"
   ]
  },
  {
   "cell_type": "code",
   "execution_count": null,
   "metadata": {
    "datalore": {
     "hide_input_from_viewers": false,
     "hide_output_from_viewers": false,
     "node_id": "cAwenZaq3c0pjUcLTV8mrc",
     "report_properties": {},
     "type": "CODE"
    }
   },
   "outputs": [],
   "source": [
    "sns.scatterplot(data=dataset, x='x1', y='x2', hue='y', marker='+', palette=['blue','red'])"
   ]
  },
  {
   "attachments": {},
   "cell_type": "markdown",
   "metadata": {
    "datalore": {
     "hide_input_from_viewers": false,
     "hide_output_from_viewers": false,
     "node_id": "3CO93fARfS6sM2cSwGQ43Z",
     "report_properties": {},
     "type": "MD"
    }
   },
   "source": [
    "<font color=\"red\">**Question 2:**</font>  Is this dataset linearly separable ? Find some examples that are close to the boundary"
   ]
  },
  {
   "attachments": {},
   "cell_type": "markdown",
   "metadata": {},
   "source": [
    "Sur le graphe ci-dessous, les points bleus et les points rouges sont clairement séparables avec une droite. \n",
    "Il y a juste un point rouge qui potentiellement pourrait être mal classé.\n",
    "\n",
    "![q2](./exo1.png)"
   ]
  },
  {
   "attachments": {},
   "cell_type": "markdown",
   "metadata": {
    "datalore": {
     "hide_input_from_viewers": false,
     "hide_output_from_viewers": false,
     "node_id": "gl30QXnYctD58ATdlpLM16",
     "report_properties": {},
     "type": "MD"
    }
   },
   "source": [
    "## <font color=\"#9400D3\">2. Fitting a linear SVM to this dataset</font>\n",
    "\n",
    "One implementation of SVM is done by class <code>SVC</code>, which stands for Support Vector Classification.\n",
    "Documentation is available: \n",
    "https://scikit-learn.org/stable/modules/generated/sklearn.svm.SVC.html"
   ]
  },
  {
   "cell_type": "code",
   "execution_count": null,
   "metadata": {
    "datalore": {
     "hide_input_from_viewers": false,
     "hide_output_from_viewers": false,
     "node_id": "N1P2vsmgwKM35bXs7MFCi9",
     "report_properties": {},
     "type": "CODE"
    }
   },
   "outputs": [],
   "source": [
    "# SVC with linear kernel, and parameter C set to 1000\n",
    "model_svm = svm.SVC(C = 1000, kernel = 'linear')\n",
    "\n",
    "# Fit the model using the features (x1 and x2) and the target (y)\n",
    "model_svm.fit(dataset.iloc[:,0:2], dataset.y)"
   ]
  },
  {
   "attachments": {},
   "cell_type": "markdown",
   "metadata": {
    "datalore": {
     "hide_input_from_viewers": false,
     "hide_output_from_viewers": false,
     "node_id": "cZYy2ayOkaSIV3ITdIwnKS",
     "report_properties": {},
     "type": "MD"
    }
   },
   "source": [
    "### Visualizing the SVM model\n",
    "\n",
    "Run the following cells to see a plot of your dataset together with the decision boundary and the margins."
   ]
  },
  {
   "cell_type": "code",
   "execution_count": null,
   "metadata": {
    "datalore": {
     "hide_input_from_viewers": false,
     "hide_output_from_viewers": false,
     "node_id": "VxD97uxVdqs3ZbDFrGKaNN",
     "report_properties": {},
     "type": "CODE"
    }
   },
   "outputs": [],
   "source": [
    "def svm_draw(model_svm, xmin, xmax, the_dataset):\n",
    "    \n",
    "    color_map = matplotlib.colors.ListedColormap(pd.Series(['blue', 'red']))\n",
    "\n",
    "\n",
    "    plt.figure(figsize=(10, 8))\n",
    "    # Plotting our two-features-space\n",
    "    plt.scatter(the_dataset.iloc[:,0], the_dataset.iloc[:,1], c = the_dataset.y, cmap = color_map, marker='+')\n",
    "    # Constructing a hyperplane using a formula.\n",
    "    w = model_svm.coef_[0]           # w consists of 2 elements\n",
    "    b = model_svm.intercept_[0]      # b consists of 1 element\n",
    "    x_points = np.linspace(xmin, xmax)    # generating x-points from -1 to 1\n",
    "    y_points = -(w[0] / w[1]) * x_points - b / w[1]  # getting corresponding y-points\n",
    "\n",
    "    plt.plot(x_points, y_points, c='g');\n",
    "\n",
    "    plt.scatter(model_svm.support_vectors_[:, 0],\n",
    "                model_svm.support_vectors_[:, 1], \n",
    "                s=50, \n",
    "                facecolors='none', \n",
    "                edgecolors='k', \n",
    "                alpha=1);\n",
    "\n",
    "    # Step 2 (unit-vector):\n",
    "    w_hat = model_svm.coef_[0] / (np.sqrt(np.sum(model_svm.coef_[0] ** 2)))\n",
    "    # Step 3 (margin):\n",
    "    margin = 1 / np.sqrt(np.sum(model_svm.coef_[0] ** 2))\n",
    "    # Step 4 (calculate points of the margin lines):\n",
    "    decision_boundary_points = np.array(list(zip(x_points, y_points)))\n",
    "    points_of_line_above = decision_boundary_points + w_hat * margin\n",
    "    points_of_line_below = decision_boundary_points - w_hat * margin\n",
    "    # Plot margin lines\n",
    "    # Blue margin line above\n",
    "    plt.plot(points_of_line_above[:, 0], \n",
    "             points_of_line_above[:, 1], \n",
    "             'g--', \n",
    "             linewidth=2)\n",
    "    # Green margin line below\n",
    "    plt.plot(points_of_line_below[:, 0], \n",
    "             points_of_line_below[:, 1], \n",
    "             'g--',\n",
    "             linewidth=2)"
   ]
  },
  {
   "cell_type": "code",
   "execution_count": null,
   "metadata": {
    "datalore": {
     "hide_input_from_viewers": false,
     "hide_output_from_viewers": false,
     "node_id": "BBbW3QX2MFtIw8fWrssHMg",
     "report_properties": {},
     "type": "CODE"
    }
   },
   "outputs": [],
   "source": [
    "svm_draw(model_svm, 9.3, 10.7, dataset)"
   ]
  },
  {
   "attachments": {},
   "cell_type": "markdown",
   "metadata": {
    "datalore": {
     "hide_input_from_viewers": false,
     "hide_output_from_viewers": false,
     "node_id": "iwlwPPGT9bZT2GvY6uI0Fk",
     "report_properties": {},
     "type": "MD"
    }
   },
   "source": [
    "<font color=\"red\">**Question 3:**</font>  \n",
    "- What do you think of this boundary and these margins?\n",
    "- How many points are inside the margins?\n",
    "- How many points are misclassified by this model?"
   ]
  },
  {
   "attachments": {},
   "cell_type": "markdown",
   "metadata": {},
   "source": [
    "In this particular case the separator line allows to directly separate the data of our dataset:\n",
    "- The line separates well the two classes (there are 0 misclassified points),\n",
    "- The margins are equidistant from the closest points of different classes,\n",
    "- But the points are too close to the margin to consider the model as optimal.\n",
    "\n",
    "Indeed, in the general case, this line may not correspond to the best possible separation because points may appear around the margin which is not wide enough to give us enough \"play\". \n",
    "\n",
    "This model is **overfitting** and **cannot generalize new data**. So we will see how to find the best separation line.\n",
    "\n",
    "\n",
    "- overfitting: the model is too complex and does not generalize well to new data\n",
    "- inside margin : 3 points\n",
    "- misclassified : 0 points"
   ]
  },
  {
   "attachments": {},
   "cell_type": "markdown",
   "metadata": {
    "datalore": {
     "hide_input_from_viewers": false,
     "hide_output_from_viewers": false,
     "node_id": "VGPh0fjvggaEoyVJ5h4NLL",
     "report_properties": {},
     "type": "MD"
    }
   },
   "source": [
    "### SVM model analysis\n",
    "\n",
    "We can also retrieve more precise information about the model that will allow us to understand its decision process.\n",
    "\n",
    "Course reminder: when fitting a SVM model, a Lagrange coefficient is associated to each sample. In addition, one more parameter is also estimated: the constant of the model.\n",
    "\n",
    "We can find these informations by the following commands:"
   ]
  },
  {
   "cell_type": "code",
   "execution_count": null,
   "metadata": {
    "datalore": {
     "hide_input_from_viewers": false,
     "hide_output_from_viewers": false,
     "node_id": "J9NA7rr98PVgyi9BzZZ9wP",
     "report_properties": {},
     "type": "CODE"
    }
   },
   "outputs": [],
   "source": [
    "# the support vectors found by the SVC\n",
    "model_svm.support_vectors_"
   ]
  },
  {
   "cell_type": "code",
   "execution_count": null,
   "metadata": {
    "datalore": {
     "hide_input_from_viewers": false,
     "hide_output_from_viewers": false,
     "node_id": "4EZrYOkWty4qet5L7HxnbV",
     "report_properties": {},
     "type": "CODE"
    }
   },
   "outputs": [],
   "source": [
    "# the index of the support vectors in the dataset\n",
    "model_svm.support_"
   ]
  },
  {
   "cell_type": "code",
   "execution_count": null,
   "metadata": {
    "datalore": {
     "hide_input_from_viewers": false,
     "hide_output_from_viewers": false,
     "node_id": "JWB5YnpMmoZKQK0pXT01d9",
     "report_properties": {},
     "type": "CODE"
    }
   },
   "outputs": [],
   "source": [
    "# the lagrange coefficients associated to the support vectors (alpha_i) multiplied by their targets (y_i)\n",
    "model_svm.dual_coef_"
   ]
  },
  {
   "cell_type": "code",
   "execution_count": null,
   "metadata": {
    "datalore": {
     "hide_input_from_viewers": false,
     "hide_output_from_viewers": false,
     "node_id": "cQTl9bR07TU6IbDMfQoMmz",
     "report_properties": {},
     "type": "CODE"
    }
   },
   "outputs": [],
   "source": [
    "# the constant of the model (w0)\n",
    "model_svm.intercept_"
   ]
  },
  {
   "attachments": {},
   "cell_type": "markdown",
   "metadata": {
    "datalore": {
     "hide_input_from_viewers": false,
     "hide_output_from_viewers": false,
     "node_id": "5OeShXxtS3cX7Ekrg6ca0G",
     "report_properties": {},
     "type": "MD"
    }
   },
   "source": [
    "<font color=\"red\">**Question 4:**</font>  \n",
    "- How many support vectors?\n",
    "- What are the classes $y_i$ associated to each support vector?\n",
    "- What are lagrange coefficients $\\alpha_i$ associated to each support vector?\n",
    "\n",
    "Be carefull: 'dual_coef_' returns the lagrange coefficients associated to the support vectors **multiplied by their targets** "
   ]
  },
  {
   "cell_type": "code",
   "execution_count": null,
   "metadata": {},
   "outputs": [],
   "source": [
    "print(\"Support Vectors : \")\n",
    "indexes = model_svm.support_\n",
    "print(dataset.iloc[indexes, 0:2], end=\"\\n\\n\")\n",
    "\n",
    "print(\"Number of support vectors: \", model_svm.support_vectors_.shape[0])\n",
    "classes_support_vectors = dataset.iloc[model_svm.support_, 2]\n",
    "print(end=\"\\n\")\n",
    "\n",
    "print(\"Classes y_i associated to the support vectors: \")\n",
    "print(classes_support_vectors, end=\"\\n\\n\")\n",
    "\n",
    "print(\"Lagrange coefficients alpha_i associated to the support vectors: \")\n",
    "lagrange_coefficients = model_svm.dual_coef_[0]\n",
    "for i in range(model_svm.support_vectors_.shape[0]):\n",
    "    print(\"alpha_{} = {}\".format(i, lagrange_coefficients[i]), end=\"\\n\")\n",
    "\n",
    "print(\"w0 = \", model_svm.intercept_[0])"
   ]
  },
  {
   "attachments": {},
   "cell_type": "markdown",
   "metadata": {},
   "source": [
    "There are 3 support vectors : \n",
    "\n",
    "| x1 | x2 | Class (y) | Lagrande coef |\n",
    "| --- | --- | --- | --- |\n",
    "| 9.41  | 6.97 | 0 |  -4.04838982  |\n",
    "| 10.00  | 5.00 | 1 |  3.46935572  |\n",
    "| 10.78 | 18.49 | 1 |  0.5790341  |\n",
    "\n"
   ]
  },
  {
   "attachments": {},
   "cell_type": "markdown",
   "metadata": {
    "datalore": {
     "hide_input_from_viewers": false,
     "hide_output_from_viewers": false,
     "node_id": "WL0jpkz4f62DHSjOtahqhf",
     "report_properties": {},
     "type": "MD"
    }
   },
   "source": [
    "<font color=\"red\">**Question 5:**</font> \n",
    "Deduce the equation $h_w(x)$ of this model. "
   ]
  },
  {
   "attachments": {},
   "cell_type": "markdown",
   "metadata": {},
   "source": [
    "Formule de $h_w(x)$ :\n",
    "\n",
    "$$\n",
    "h_w(x)= \\sum_{i=1}^{m} \\alpha_i^* y^{(i)} (x \\bullet x^{(i)}) + w_0^*\n",
    "$$\n",
    "\n",
    "$$\n",
    "h_w(x)=-4.04838982*(-1)*(9.41*6.97)+3.46935572*1*(10.00*5.00)+0.5790341*1*(10.78*18.49)+-26.581772205040433\n",
    "$$"
   ]
  },
  {
   "attachments": {},
   "cell_type": "markdown",
   "metadata": {
    "datalore": {
     "hide_input_from_viewers": false,
     "hide_output_from_viewers": false,
     "node_id": "wx6BS6gC2TitrBmg4Li0c0",
     "report_properties": {},
     "type": "MD"
    }
   },
   "source": [
    "### Classification with SVM model\n",
    "\n",
    "<font color=\"blue\">**todo:**</font> Apply the previous formula to compute the decisions $\\hat{y}$ for the 2 first examples of the dataset. \n",
    "\n",
    "Hints: dot product between 2 vectors $x_1$ and $x_2$ is done by <code>np.dot(x_1, x_2)</code>.\n",
    "\n",
    "<font color=\"red\">**Question 6:**</font> \n",
    "- What represents the value $h_w(x)$?\n",
    "- Are these examples correctly classified?"
   ]
  },
  {
   "attachments": {},
   "cell_type": "markdown",
   "metadata": {},
   "source": [
    "> Q6.1 : $h_w(x)$ represents the estimated value of the target $y$ for the example $x$."
   ]
  },
  {
   "cell_type": "code",
   "execution_count": null,
   "metadata": {
    "datalore": {
     "hide_input_from_viewers": false,
     "hide_output_from_viewers": false,
     "node_id": "ciyzP8FUsnRHLOSvjQSC8G",
     "report_properties": {},
     "type": "CODE"
    }
   },
   "outputs": [],
   "source": [
    "# first and second point in the dataset\n",
    "point1 = dataset.iloc[0, 0:2]\n",
    "point2 = dataset.iloc[1, 0:2]\n",
    "y1 = dataset.iloc[0, 2]\n",
    "y2 = dataset.iloc[1, 2]\n",
    "print(\"point1: \\n\", point1, \"y1: \", y1)\n",
    "print(\"point2: \\n\", point2, \"y2: \", y2)\n",
    "\n",
    "def h(x):\n",
    "    # return model_svm.coef_[0][0] * x1 + model_svm.coef_[0][1] * x2 + model_svm.intercept_[0]\n",
    "    return -4.04838982*(-1)*(np.dot(x[0], x[1]))+3.46935572*(np.dot(x[0], x[1])) + 0.5790341*(np.dot(x[0], x[1])) - 26.581772205040433\n",
    "\n",
    "\n",
    "print(h(point1))\n",
    "print(h(point2))"
   ]
  },
  {
   "attachments": {},
   "cell_type": "markdown",
   "metadata": {
    "datalore": {
     "hide_input_from_viewers": false,
     "hide_output_from_viewers": false,
     "node_id": "SkgQ7s7fyBMaRFVVkvzT9y",
     "report_properties": {},
     "type": "MD"
    }
   },
   "source": [
    "You can obtain the $h_w(x)$ values for the examples in the dataset using the function \n",
    "<code>decision_function</code>.\n",
    "\n",
    "Check your results."
   ]
  },
  {
   "cell_type": "code",
   "execution_count": null,
   "metadata": {
    "datalore": {
     "hide_input_from_viewers": false,
     "hide_output_from_viewers": false,
     "node_id": "SMme94bIUIvEXcY4IVIczN",
     "report_properties": {},
     "type": "CODE"
    }
   },
   "outputs": [],
   "source": [
    "print('\\n',dataset.iloc[:2,:])\n",
    "decision_values = model_svm.decision_function(dataset.iloc[:2,0:2])\n",
    "print()\n",
    "for i in range(len(decision_values)):\n",
    "    print(\"decision value for sample {}: {}\".format(i, decision_values[i]), end=\"\\n\")"
   ]
  },
  {
   "attachments": {},
   "cell_type": "markdown",
   "metadata": {},
   "source": [
    "> Q6.2 : For the 2 first samples, the model correctly classifies them.\n",
    ">\n",
    "> - for the first value, the expected value is 0 and the model outputs -1.241 (which is negative : which corresponds to the class 0)\n",
    "> - for the second value, the expected value is 1 and the model outputs 11.17 (which is positive : which corresponds to the class 1)"
   ]
  },
  {
   "attachments": {},
   "cell_type": "markdown",
   "metadata": {
    "datalore": {
     "hide_input_from_viewers": false,
     "hide_output_from_viewers": false,
     "node_id": "YyGRIzrxefGZHwDnwJaqJC",
     "report_properties": {},
     "type": "MD"
    }
   },
   "source": [
    "<font color=\"red\">**Question 6:**</font> what are the decision values for the support vectors? Which values are expected for support vectors? \n",
    "\n",
    "> Q6.3 : The decision values for the support vectors is the value of $h_w(x)$ for the support vectors.\n",
    "> \n",
    "> The expected value for the support vectors is -1 or 1 because they are the closest points to the margin with a distance of 1."
   ]
  },
  {
   "cell_type": "code",
   "execution_count": null,
   "metadata": {
    "datalore": {
     "hide_input_from_viewers": false,
     "hide_output_from_viewers": false,
     "node_id": "YSkoTN7ozO1EHzg6OAU8e2",
     "report_properties": {},
     "type": "CODE"
    }
   },
   "outputs": [],
   "source": [
    "# print the decision values for the support vectors\n",
    "print(\"Support Vectors : \")\n",
    "indexes = model_svm.support_\n",
    "print(dataset.iloc[indexes, 0:3], end=\"\\n\\n\")\n",
    "\n",
    "# Calculate the decision values for the support vectors\n",
    "print(\"Decision values for the support vectors: \")\n",
    "decision_values = model_svm.decision_function(dataset.iloc[indexes, 0:2])\n",
    "for i in range(model_svm.support_vectors_.shape[0]):\n",
    "    print(\"decision value for support vector {}: {}\".format(i, decision_values[i]), end=\"\\n\")\n",
    "    \n"
   ]
  },
  {
   "attachments": {},
   "cell_type": "markdown",
   "metadata": {},
   "source": [
    "> As expected they are the closest points to the margin with a distance of 1. and the classes are correctly classified."
   ]
  },
  {
   "attachments": {},
   "cell_type": "markdown",
   "metadata": {
    "datalore": {
     "hide_input_from_viewers": false,
     "hide_output_from_viewers": false,
     "node_id": "oW6VDeo6fnsHUhrdQ5To3t",
     "report_properties": {},
     "type": "MD"
    }
   },
   "source": [
    "## <font color=\"#9400D3\">3. Change the hyperparameter C</font>\n",
    "\n",
    "Even if the dataset is linearly separable, the previous boundary is not very adapted. Because C is very high the model favours no training error. \n",
    "\n",
    "<font color=\"blue\">**Todo:**</font> \n",
    "- Fit a model with a smaller value of C: C = 1\n",
    "- Plot the new boundary and margins\n",
    "\n",
    "<font color=\"red\">**Question 7:**</font> \n",
    " - 1. How many support vectors are selected ?\n",
    " - 2. How many points are inside the margins ? on the margins ?\n",
    " - 3. How many points from the dataset are misclassified ?\n",
    " - 4. What are the lagrange values of $\\alpha$ for the support vectors ?\n",
    " - 5. What are the values of $h_w(x)$ for the support vectors ?"
   ]
  },
  {
   "cell_type": "code",
   "execution_count": null,
   "metadata": {
    "datalore": {
     "hide_input_from_viewers": false,
     "hide_output_from_viewers": false,
     "node_id": "7nzNxNNr36VLXNi49v1x6D",
     "report_properties": {},
     "type": "CODE"
    }
   },
   "outputs": [],
   "source": [
    "# Fit a SVM model with C=1 \n",
    "model_svm_C_lower = svm.SVC(C = 1, kernel = 'linear')"
   ]
  },
  {
   "cell_type": "code",
   "execution_count": null,
   "metadata": {
    "datalore": {
     "hide_input_from_viewers": false,
     "hide_output_from_viewers": false,
     "node_id": "U6jH2q43N7BAehXLHZWH74",
     "report_properties": {},
     "type": "CODE"
    }
   },
   "outputs": [],
   "source": [
    "# Visualize boundary and margins\n",
    "model_svm_C_lower.fit(dataset.iloc[:,0:2], dataset.y)\n",
    "svm_draw(model_svm_C_lower, 9.3, 10.7, dataset)"
   ]
  },
  {
   "cell_type": "code",
   "execution_count": null,
   "metadata": {},
   "outputs": [],
   "source": [
    "# Support vectors with C=1\n",
    "print(\"Support Vectors :\")\n",
    "indexes = model_svm_C_lower.support_\n",
    "\n",
    "# Lagrande estimation with C=1\n",
    "print(dataset.iloc[indexes,:])\n",
    "print()\n",
    "\n",
    "\n",
    "print(\"Lagrange coefficients alpha_i associated to the support vectors: \")\n",
    "lagrange_coefficients = model_svm_C_lower.dual_coef_[0]\n",
    "for i in range(model_svm_C_lower.support_vectors_.shape[0]):\n",
    "    print(\"alpha_{} = {}\".format(i, lagrange_coefficients[i]), end=\"\\n\")\n",
    "print(\"w0 = \", model_svm_C_lower.intercept_[0])\n",
    "\n",
    "print(\"\\nSupport Vectors decision values: \")\n",
    "decision_values = model_svm_C_lower.decision_function(dataset.iloc[indexes,0:2])\n",
    "for i in range(len(decision_values)):\n",
    "    print(\"decision value for sample {}: {}\".format(i, decision_values[i]), end=\"\\n\")"
   ]
  },
  {
   "attachments": {},
   "cell_type": "markdown",
   "metadata": {},
   "source": [
    "<font color=\"red\">**Question 7:**</font> \n",
    "- 1. How many support vectors are selected ?\n",
    "\n",
    "> There are 4 support vectors\n",
    "\n",
    "- 2. How many points are inside the margins ? on the margins ?\n",
    "\n",
    "> This corresponds to the number of support vectors. There are 4 points inside the margins.\n",
    "\n",
    "- 3. How many points from the dataset are misclassified ?\n",
    "\n",
    "> It has only one point which is misclacified.\n",
    "\n",
    "- 4. What are the lagrange values of $\\alpha$ for the support vectors ?\n",
    "\n",
    "> Lagrange coefficients alpha_i associated to the support vectors: \n",
    "> \n",
    "> - $alpha_0 = -1.0$\n",
    "> - $alpha_1 = -0.4377455269394006$\n",
    "> - $alpha_2 = 1.0$\n",
    "> - $alpha_3 = 0.4377455269394007$\n",
    "> - $w_0 =  -11.6467925059905$\n",
    "\n",
    "- 5. What are the values of $h_w(x)$ for the support vectors ?\n",
    "\n",
    "> | x1 | x2 | Class (y) | $$h_w(x)$$ |\n",
    "> | --- | --- | --- | --- |\n",
    "> | 9.50 | 10.00 | 0 | -0.7712497694552347 |\n",
    "> | 9.41 | 6.97 | 0 | -0.9999940580628213 |\n",
    "> | 10.00 | 5.00 | 1 | -0.43553643521121543 |\n",
    "> | 10.78 | 18.49 | 1 | 0.9999944997884462 |\n",
    "\n",
    "\n"
   ]
  },
  {
   "attachments": {},
   "cell_type": "markdown",
   "metadata": {
    "datalore": {
     "hide_input_from_viewers": false,
     "hide_output_from_viewers": false,
     "node_id": "YdgUrA4yKtm0Bt9hUvCPjm",
     "report_properties": {},
     "type": "MD"
    }
   },
   "source": [
    "<font color=\"red\">**Question 8:**</font>  Same as question 7 for C = 0.01.\n",
    "\n",
    "hint: you'll have to modify xmin and xmax in the <code>svm_draw</code> function to 3 and 17"
   ]
  },
  {
   "cell_type": "code",
   "execution_count": null,
   "metadata": {
    "datalore": {
     "hide_input_from_viewers": false,
     "hide_output_from_viewers": false,
     "node_id": "rPE1hmqATtvrmdH4l0MM5J",
     "report_properties": {},
     "type": "CODE"
    }
   },
   "outputs": [],
   "source": [
    "# TODO - Fit a SVM with C=0.01\n",
    "model_svm_C_very_lower = svm.SVC(C = 0.01, kernel = 'linear')\n",
    "# Visualize boundary and margins\n",
    "model_svm_C_very_lower.fit(dataset.iloc[:,0:2], dataset.y)\n",
    "svm_draw(model_svm_C_very_lower, 3, 17, dataset)\n",
    "\n",
    "# Support vectors with C=1\n",
    "print(\"Support Vectors :\")\n",
    "indexes = model_svm_C_very_lower.support_\n",
    "\n",
    "# Lagrande estimation with C=1\n",
    "print(dataset.iloc[indexes,:])\n",
    "print()\n",
    "\n",
    "print(\"Lagrange coefficients alpha_i associated to the support vectors: \")\n",
    "lagrange_coefficients = model_svm_C_very_lower.dual_coef_[0]\n",
    "for i in range(model_svm_C_very_lower.support_vectors_.shape[0]):\n",
    "    print(\"alpha_{} = {}\".format(i, lagrange_coefficients[i]), end=\"\\n\")\n",
    "print(\"w0 = \", model_svm_C_very_lower.intercept_[0])\n",
    "\n",
    "print(\"\\nSupport Vectors decision values: \")\n",
    "decision_values = model_svm_C_very_lower.decision_function(dataset.iloc[indexes,0:2])\n",
    "for i in range(len(decision_values)):\n",
    "    print(\"decision value for sample {}: {}\".format(i, decision_values[i]), end=\"\\n\")"
   ]
  },
  {
   "attachments": {},
   "cell_type": "markdown",
   "metadata": {
    "datalore": {
     "hide_input_from_viewers": false,
     "hide_output_from_viewers": false,
     "node_id": "DQOGZeSJpZDc0HWDFnkaLR",
     "report_properties": {},
     "type": "MD"
    }
   },
   "source": [
    "<font color=\"red\">**Question 9:**</font>  what can you conclude about the influence of C ?"
   ]
  },
  {
   "attachments": {},
   "cell_type": "markdown",
   "metadata": {},
   "source": [
    "> Q9: C influences the width of the margin. The smaller C is, the wider the margin is. The larger C is, the narrower the margin is.\n",
    ">\n",
    "> Futhermore, we need to be careful with the value of C. If C is too small, the model will not be able to classify the data correctly. If C is too large, the model will overfit the data."
   ]
  },
  {
   "attachments": {},
   "cell_type": "markdown",
   "metadata": {
    "datalore": {
     "hide_input_from_viewers": false,
     "hide_output_from_viewers": false,
     "node_id": "Bbox63kwJGBhbk9FurlBHP",
     "report_properties": {},
     "type": "MD"
    }
   },
   "source": [
    "# <font color=\"#1E90FF\">Exercise 2: Choosing C using train/val/test split</font>"
   ]
  },
  {
   "attachments": {},
   "cell_type": "markdown",
   "metadata": {
    "datalore": {
     "hide_input_from_viewers": false,
     "hide_output_from_viewers": false,
     "node_id": "KV5Tj7CsljGW6B5NnA1Smk",
     "report_properties": {},
     "type": "MD"
    }
   },
   "source": [
    "In this exercise, you will choose the best value of C (for a given dataset) by the same procedure as for the other algorithms: train/validation/test split"
   ]
  },
  {
   "cell_type": "code",
   "execution_count": null,
   "metadata": {
    "datalore": {
     "hide_input_from_viewers": false,
     "hide_output_from_viewers": false,
     "node_id": "6fqTuaJP43zXEIif9Lqq07",
     "report_properties": {},
     "type": "CODE"
    }
   },
   "outputs": [],
   "source": [
    "# Load the dataset\n",
    "#dataset = pd.read_csv(\"./data/spam7.csv\", decimal=\",\", index_col=0, delimiter = \";\")\n",
    "dataset = pd.read_csv(\"./spam7.csv\", decimal=\",\", index_col=0, delimiter = \";\")\n",
    "dataset[\"yesno\"]=dataset[\"yesno\"]\n",
    "dataset[\"y\"]=dataset[\"yesno\"].apply(lambda label: 1 if label == \"y\" else 0)\n",
    "dataset\n",
    "# A description about this dataset is given here:\n",
    "# https://rdrr.io/cran/DAAG/man/spam7.html"
   ]
  },
  {
   "attachments": {},
   "cell_type": "markdown",
   "metadata": {
    "datalore": {
     "hide_input_from_viewers": false,
     "hide_output_from_viewers": false,
     "node_id": "SiK1CXYSRJ9ME3emnIgGSg",
     "report_properties": {},
     "type": "MD"
    }
   },
   "source": [
    "<font color=\"red\">**Question 1:**</font>  How many examples ? How many features ? What is the distribution of the target ?"
   ]
  },
  {
   "cell_type": "code",
   "execution_count": null,
   "metadata": {
    "datalore": {
     "hide_input_from_viewers": false,
     "hide_output_from_viewers": false,
     "node_id": "zPdkc9mifEVR1sEhhZbuWQ",
     "report_properties": {},
     "type": "CODE"
    }
   },
   "outputs": [],
   "source": [
    "# dataset analysis\n",
    "dataset.describe()\n",
    "\n"
   ]
  },
  {
   "cell_type": "code",
   "execution_count": null,
   "metadata": {},
   "outputs": [],
   "source": [
    "# count for the column \"yesno\" (number of spam emails)\n",
    "# no = 0 , yes = 1\n",
    "dataset.yesno.value_counts()"
   ]
  },
  {
   "attachments": {},
   "cell_type": "markdown",
   "metadata": {},
   "source": [
    "> Q1: It has 4601 rows and 58 columns. \n",
    "> \n",
    "> The first column is the type of the email, and the rest are the features of the email. \n",
    "> \n",
    "> The features are the frequency of the words in the email. The type of the email is either ham or spam.\n",
    ">\n",
    "> It has 2788 \"no and 1813 \"yes\" for the target."
   ]
  },
  {
   "attachments": {},
   "cell_type": "markdown",
   "metadata": {
    "datalore": {
     "hide_input_from_viewers": false,
     "hide_output_from_viewers": false,
     "node_id": "nuCb1vxNvriTy2n7M3Pg6Z",
     "report_properties": {},
     "type": "MD"
    }
   },
   "source": [
    "SVM can be very long to fit when the dataset is big (number of examples, number of features).\n",
    "It is better to scale the features before fitting a model. A classical scaling is the standard scaler, which removes the mean and divide by the standard deviation. Hence, after this operation, each feature has a mean of zero and a standard deviation of 1. "
   ]
  },
  {
   "cell_type": "code",
   "execution_count": null,
   "metadata": {
    "datalore": {
     "hide_input_from_viewers": false,
     "hide_output_from_viewers": false,
     "node_id": "J97fjGW2inqhf7acsg2jKQ",
     "report_properties": {},
     "type": "CODE"
    }
   },
   "outputs": [],
   "source": [
    "from sklearn.preprocessing import StandardScaler\n",
    "# First, get the features\n",
    "X = dataset.iloc[:,0:6]\n",
    "# then create a scaler on X\n",
    "scaler = StandardScaler().fit(X)\n",
    "# Apply it to X\n",
    "X = scaler.transform(X)\n",
    "# create a dataframe with X\n",
    "X = pd.DataFrame(X, columns=dataset.columns[0:6])\n",
    "X.describe()\n",
    "\n",
    "# You should see that the features have been transformed\n",
    "# print(X.dollar.mean())\n",
    "# the mean of feature 'dollar' is now 0 (very close to 0)\n",
    "# it is the same for the other features"
   ]
  },
  {
   "cell_type": "code",
   "execution_count": null,
   "metadata": {
    "datalore": {
     "hide_input_from_viewers": false,
     "hide_output_from_viewers": false,
     "node_id": "9Wvr5iqVYhersSEBMqivBp",
     "report_properties": {},
     "type": "CODE"
    }
   },
   "outputs": [],
   "source": [
    "# Now we will add the target variable inside X\n",
    "X['y'] = dataset.y\n",
    "X\n",
    "# now our dataset is called X"
   ]
  },
  {
   "attachments": {},
   "cell_type": "markdown",
   "metadata": {
    "datalore": {
     "hide_input_from_viewers": false,
     "hide_output_from_viewers": false,
     "node_id": "kQKmNaDyYkq5VDmboCbI4C",
     "report_properties": {},
     "type": "MD"
    }
   },
   "source": [
    "<font color=\"blue\">todo:</font>  Split this dataset into training/validation/test "
   ]
  },
  {
   "cell_type": "code",
   "execution_count": null,
   "metadata": {
    "datalore": {
     "hide_input_from_viewers": false,
     "hide_output_from_viewers": false,
     "node_id": "690Mhtm2bBrDhBjry4M7T7",
     "report_properties": {},
     "type": "CODE"
    }
   },
   "outputs": [],
   "source": [
    "# train/validation/test splitting\n",
    "\n",
    "X_data, X_test = train_test_split(X, test_size=0.3, random_state=42)\n",
    "X_test, X_validation = train_test_split(X_test, test_size=0.5, random_state=42)"
   ]
  },
  {
   "attachments": {},
   "cell_type": "markdown",
   "metadata": {
    "datalore": {
     "hide_input_from_viewers": false,
     "hide_output_from_viewers": false,
     "node_id": "DfxleEk5R5qqTV1kY6B6ia",
     "report_properties": {},
     "type": "MD"
    }
   },
   "source": [
    "<font color=\"red\">**Question 2:**</font> \n",
    " - Fit a first linear SVM model with C = 1\n",
    " - How many support vectors are selected ?\n",
    " - What is the performance of this model on the training set ? on the test set ?\n",
    " - What is the confusion matrix of the predictions of the test set ? What kind of errors is more often made? (check <code>confusion_matrix</code> function for that)"
   ]
  },
  {
   "cell_type": "code",
   "execution_count": null,
   "metadata": {
    "datalore": {
     "hide_input_from_viewers": false,
     "hide_output_from_viewers": false,
     "node_id": "BZs8H4drBSdUPIQT0LQ1hm",
     "report_properties": {},
     "type": "CODE"
    }
   },
   "outputs": [],
   "source": [
    "# Fit a linear SVM model with C = 1\n",
    "model_svm_Q2 = svm.SVC(C = 1, kernel = 'linear')\n",
    "model_svm_Q2.fit(X_data.iloc[:,0:2], X_data.y)\n",
    "svm_draw(model_svm_Q2, -1, 17, X_data)\n",
    "\n",
    "# Support vectors with C=1\n",
    "print(\"Support Vectors :\")\n",
    "indexes = model_svm_Q2.support_"
   ]
  },
  {
   "attachments": {},
   "cell_type": "markdown",
   "metadata": {
    "datalore": {
     "hide_input_from_viewers": false,
     "hide_output_from_viewers": false,
     "node_id": "fmqtp0wCV5iC5PYS5xU5ml",
     "report_properties": {},
     "type": "MD"
    }
   },
   "source": [
    "<font color=\"blue\">**Todo:**</font>  \n",
    "- Try different values of C (between 0.01 and 1000 for instance, by order of magnitude) and compute the training and validation scores for each value of C (use a'for' loop). \n",
    "- Select the best value of C and estimate the generalization error of the selected SVM."
   ]
  },
  {
   "cell_type": "code",
   "execution_count": null,
   "metadata": {
    "datalore": {
     "hide_input_from_viewers": false,
     "hide_output_from_viewers": false,
     "node_id": "W4mhNVedGZo7KWFsf1bFvL",
     "report_properties": {},
     "type": "CODE"
    }
   },
   "outputs": [],
   "source": [
    "# TODO - this can take some computing time\n",
    "Cs = [0.01, 0.1, .5,  1, 2, 10, 100, 1000]\n",
    "errors = []\n",
    "for C in Cs:\n",
    "    model_svm_Q2 = svm.SVC(C = C, kernel = 'linear')\n",
    "    model_svm_Q2.fit(X_data.iloc[:,0:2], X_data.y)\n",
    "    errors.append(1 - model_svm_Q2.score(X_validation.iloc[:,0:2], X_validation.y))\n",
    "\n",
    "print(errors)    "
   ]
  },
  {
   "cell_type": "code",
   "execution_count": null,
   "metadata": {
    "datalore": {
     "hide_input_from_viewers": false,
     "hide_output_from_viewers": false,
     "node_id": "JohgzfuqM1xpEyJZve8STp",
     "report_properties": {},
     "type": "CODE"
    }
   },
   "outputs": [],
   "source": [
    "# TODO - estimate the generalization error of the selected SVM\n",
    "Cs_string = [str(c) for c in Cs] \n",
    "plt.plot(Cs_string, errors)\n",
    "plt.xlabel(\"C\")\n",
    "plt.ylabel(\"Generalization error\")\n"
   ]
  },
  {
   "attachments": {},
   "cell_type": "markdown",
   "metadata": {
    "datalore": {
     "hide_input_from_viewers": false,
     "hide_output_from_viewers": false,
     "node_id": "7sw8CmSndVv3iJzSGFfw4A",
     "report_properties": {},
     "type": "MD"
    }
   },
   "source": [
    "<font color=\"red\">**Question 3:**</font> \n",
    "- give the best C value\n",
    "- compare the generalization error using this tuned value and the default value (C=1)"
   ]
  },
  {
   "attachments": {},
   "cell_type": "markdown",
   "metadata": {},
   "source": [
    "> Q3: The best C value is 1, because the generalisation is the lowest.\n",
    ">\n",
    "> We can say that the default value is a great choice for this dataset."
   ]
  },
  {
   "attachments": {},
   "cell_type": "markdown",
   "metadata": {
    "datalore": {
     "hide_input_from_viewers": false,
     "hide_output_from_viewers": false,
     "node_id": "ollxWvKByXvqmbQtCZ7hUZ",
     "report_properties": {},
     "type": "MD"
    }
   },
   "source": [
    "# <font color=\"#1E90FF\">Exercise 3: Non-linear SVM</font>\n",
    "\n",
    "We move here on SVM using kernel functions.\n",
    "\n",
    "## <font color=\"#9400D3\">1. Data analysis</font>"
   ]
  },
  {
   "cell_type": "code",
   "execution_count": 304,
   "metadata": {
    "datalore": {
     "hide_input_from_viewers": false,
     "hide_output_from_viewers": false,
     "node_id": "HImm4jDhjO8ULPqyc7VTNs",
     "report_properties": {},
     "type": "CODE"
    }
   },
   "outputs": [
    {
     "data": {
      "text/html": [
       "<div>\n",
       "<style scoped>\n",
       "    .dataframe tbody tr th:only-of-type {\n",
       "        vertical-align: middle;\n",
       "    }\n",
       "\n",
       "    .dataframe tbody tr th {\n",
       "        vertical-align: top;\n",
       "    }\n",
       "\n",
       "    .dataframe thead th {\n",
       "        text-align: right;\n",
       "    }\n",
       "</style>\n",
       "<table border=\"1\" class=\"dataframe\">\n",
       "  <thead>\n",
       "    <tr style=\"text-align: right;\">\n",
       "      <th></th>\n",
       "      <th>x1</th>\n",
       "      <th>x2</th>\n",
       "      <th>y</th>\n",
       "    </tr>\n",
       "  </thead>\n",
       "  <tbody>\n",
       "    <tr>\n",
       "      <th>0</th>\n",
       "      <td>1.5</td>\n",
       "      <td>4.0</td>\n",
       "      <td>1</td>\n",
       "    </tr>\n",
       "    <tr>\n",
       "      <th>1</th>\n",
       "      <td>1.0</td>\n",
       "      <td>2.0</td>\n",
       "      <td>1</td>\n",
       "    </tr>\n",
       "    <tr>\n",
       "      <th>2</th>\n",
       "      <td>0.0</td>\n",
       "      <td>0.0</td>\n",
       "      <td>1</td>\n",
       "    </tr>\n",
       "    <tr>\n",
       "      <th>3</th>\n",
       "      <td>1.0</td>\n",
       "      <td>4.0</td>\n",
       "      <td>1</td>\n",
       "    </tr>\n",
       "    <tr>\n",
       "      <th>4</th>\n",
       "      <td>0.5</td>\n",
       "      <td>3.0</td>\n",
       "      <td>1</td>\n",
       "    </tr>\n",
       "    <tr>\n",
       "      <th>...</th>\n",
       "      <td>...</td>\n",
       "      <td>...</td>\n",
       "      <td>...</td>\n",
       "    </tr>\n",
       "    <tr>\n",
       "      <th>145</th>\n",
       "      <td>-2.8</td>\n",
       "      <td>-3.3</td>\n",
       "      <td>0</td>\n",
       "    </tr>\n",
       "    <tr>\n",
       "      <th>146</th>\n",
       "      <td>-2.8</td>\n",
       "      <td>1.0</td>\n",
       "      <td>0</td>\n",
       "    </tr>\n",
       "    <tr>\n",
       "      <th>147</th>\n",
       "      <td>-2.8</td>\n",
       "      <td>3.0</td>\n",
       "      <td>0</td>\n",
       "    </tr>\n",
       "    <tr>\n",
       "      <th>148</th>\n",
       "      <td>-2.4</td>\n",
       "      <td>3.0</td>\n",
       "      <td>0</td>\n",
       "    </tr>\n",
       "    <tr>\n",
       "      <th>149</th>\n",
       "      <td>-2.3</td>\n",
       "      <td>5.0</td>\n",
       "      <td>0</td>\n",
       "    </tr>\n",
       "  </tbody>\n",
       "</table>\n",
       "<p>150 rows × 3 columns</p>\n",
       "</div>"
      ],
      "text/plain": [
       "      x1   x2  y\n",
       "0    1.5  4.0  1\n",
       "1    1.0  2.0  1\n",
       "2    0.0  0.0  1\n",
       "3    1.0  4.0  1\n",
       "4    0.5  3.0  1\n",
       "..   ...  ... ..\n",
       "145 -2.8 -3.3  0\n",
       "146 -2.8  1.0  0\n",
       "147 -2.8  3.0  0\n",
       "148 -2.4  3.0  0\n",
       "149 -2.3  5.0  0\n",
       "\n",
       "[150 rows x 3 columns]"
      ]
     },
     "execution_count": 304,
     "metadata": {},
     "output_type": "execute_result"
    }
   ],
   "source": [
    "# Load a dataset\n",
    "#dataset = pd.read_csv(\"./data/SepNonLineaire.csv\")\n",
    "dataset = pd.read_csv(\"./SepNonLineaire.csv\")\n",
    "dataset"
   ]
  },
  {
   "attachments": {},
   "cell_type": "markdown",
   "metadata": {
    "datalore": {
     "hide_input_from_viewers": false,
     "hide_output_from_viewers": false,
     "node_id": "o0HdSsWEsovtoPoha5G2N6",
     "report_properties": {},
     "type": "MD"
    }
   },
   "source": [
    "<font color=\"red\">**Question 1:**</font> How many examples? features? distribution of the target values ?"
   ]
  },
  {
   "cell_type": "code",
   "execution_count": 305,
   "metadata": {
    "datalore": {
     "hide_input_from_viewers": false,
     "hide_output_from_viewers": false,
     "node_id": "C6ktM6DN0hR1iFwgrUnYOb",
     "report_properties": {},
     "type": "CODE"
    }
   },
   "outputs": [
    {
     "name": "stdout",
     "output_type": "stream",
     "text": [
      "Numbers of example : 150\n",
      "Features : 1, 0\n",
      "0    105\n",
      "1     45\n",
      "Name: y, dtype: int64\n"
     ]
    }
   ],
   "source": [
    "print(\"Numbers of example : 150\")\n",
    "print(\"Features : 1, 0\")\n",
    "\n",
    "# Distribution \n",
    "dataset.describe()\n",
    "print(dataset.y.value_counts())"
   ]
  },
  {
   "cell_type": "code",
   "execution_count": 306,
   "metadata": {
    "datalore": {
     "hide_input_from_viewers": false,
     "hide_output_from_viewers": false,
     "node_id": "fjBkjGazRucM0WyXDQuxFc",
     "report_properties": {},
     "type": "CODE"
    }
   },
   "outputs": [
    {
     "data": {
      "image/png": "[encoded data removed]",
      "text/plain": [
       "<Figure size 640x480 with 1 Axes>"
      ]
     },
     "metadata": {},
     "output_type": "display_data"
    }
   ],
   "source": [
    "sns.scatterplot(data=dataset, x='x1', y='x2', hue='y', palette=sns.color_palette(\"deep\")[0:2][::-1])\n",
    "legend = plt.legend(frameon=True)\n",
    "legend.get_frame().set_facecolor('white')\n",
    "legend.get_frame().set_edgecolor('b')"
   ]
  },
  {
   "attachments": {},
   "cell_type": "markdown",
   "metadata": {
    "datalore": {
     "hide_input_from_viewers": false,
     "hide_output_from_viewers": false,
     "node_id": "o6rF0Uc3UDDX5RxIBgv84w",
     "report_properties": {},
     "type": "MD"
    }
   },
   "source": [
    "<font color=\"red\">**Question 2:**</font> Is this dataset linearly separable ?"
   ]
  },
  {
   "attachments": {},
   "cell_type": "markdown",
   "metadata": {},
   "source": [
    "> Q2: Visually, it is not linearly separable. We can clearly see that there are two classes, and that the boundary between the two classes is not linear."
   ]
  },
  {
   "cell_type": "code",
   "execution_count": 307,
   "metadata": {
    "datalore": {
     "hide_input_from_viewers": false,
     "hide_output_from_viewers": false,
     "node_id": "JdGgzpjnLNiN3mRUNP046X",
     "report_properties": {},
     "type": "CODE"
    }
   },
   "outputs": [],
   "source": [
    "#  Split this dataset into training/validation/test\n",
    "X_data, X_test = train_test_split(dataset, test_size=0.3, random_state=42)\n",
    "X_test, X_validation = train_test_split(X_test, test_size=0.5, random_state=42)\n"
   ]
  },
  {
   "attachments": {},
   "cell_type": "markdown",
   "metadata": {
    "datalore": {
     "hide_input_from_viewers": false,
     "hide_output_from_viewers": false,
     "node_id": "XqWbs2CcQGLqVpu6F0ZxRN",
     "report_properties": {},
     "type": "MD"
    }
   },
   "source": [
    "## <font color=\"#9400D3\">2. Linear SVM</font>\n",
    "\n",
    "<font color=\"blue\">**Todo:**</font> try a linear SVM, compute the real error, and draw the boundaries, just to see."
   ]
  },
  {
   "cell_type": "code",
   "execution_count": 309,
   "metadata": {
    "datalore": {
     "hide_input_from_viewers": false,
     "hide_output_from_viewers": false,
     "node_id": "CFZQVZWxPiO1EYybYpGuNu",
     "report_properties": {},
     "type": "CODE"
    }
   },
   "outputs": [
    {
     "data": {
      "image/png": "[encoded data removed]",
      "text/plain": [
       "<Figure size 1000x800 with 1 Axes>"
      ]
     },
     "metadata": {},
     "output_type": "display_data"
    }
   ],
   "source": [
    "# linear SVM\n",
    "model_svm = svm.SVC(C = 1, kernel = 'linear')\n",
    "model_svm.fit(X_data.iloc[:,0:2], X_data.y)\n",
    "# TODO - draw the boundaries\n",
    "svm_draw(model_svm, -75000, 75000, X_data)"
   ]
  },
  {
   "cell_type": "code",
   "execution_count": null,
   "metadata": {},
   "outputs": [],
   "source": []
  },
  {
   "attachments": {},
   "cell_type": "markdown",
   "metadata": {
    "datalore": {
     "hide_input_from_viewers": false,
     "hide_output_from_viewers": false,
     "node_id": "VAKPpuV9GYPRXdbquwUN3u",
     "report_properties": {},
     "type": "MD"
    }
   },
   "source": [
    "## <font color=\"#9400D3\">3. Radial SVM</font>\n",
    "\n",
    "We will apply a radial SVM (with rbf kernel).\n",
    "For this, you just need to specify <code>kernel = 'rbf'</code> rather than <code>kernel = 'linear'</code>.\n",
    "And you'll also need to set a value for gamma (otherwise there is a default value)\n",
    "\n",
    "<font color=\"blue\">**Todo:**</font> \n",
    " - Fit a rbf SVM with C = 1 and gamma = 10\n",
    " - Compute train and validation scores\n",
    " - Plot the decision boundaries and the margins using the function <code>draw_boundary</code> above\n",
    " \n",
    "<font color=\"red\">**Question 3:**</font> \n",
    "What phenomenon can you observe here ?"
   ]
  },
  {
   "cell_type": "code",
   "execution_count": 311,
   "metadata": {
    "datalore": {
     "hide_input_from_viewers": false,
     "hide_output_from_viewers": false,
     "node_id": "0AvHOrm5mI2OiYku2O9ELB",
     "report_properties": {},
     "type": "CODE"
    }
   },
   "outputs": [
    {
     "ename": "AttributeError",
     "evalue": "coef_ is only available when using a linear kernel",
     "output_type": "error",
     "traceback": [
      "\u001b[0;31m---------------------------------------------------------------------------\u001b[0m",
      "\u001b[0;31mAttributeError\u001b[0m                            Traceback (most recent call last)",
      "Cell \u001b[0;32mIn[311], line 6\u001b[0m\n\u001b[1;32m      4\u001b[0m model_svm\u001b[39m.\u001b[39mfit(X_data\u001b[39m.\u001b[39miloc[:,\u001b[39m0\u001b[39m:\u001b[39m2\u001b[39m], X_data\u001b[39m.\u001b[39my)\n\u001b[1;32m      5\u001b[0m \u001b[39m# TODO - draw the boundaries\u001b[39;00m\n\u001b[0;32m----> 6\u001b[0m svm_draw(model_svm, \u001b[39m-\u001b[39;49m\u001b[39m75000\u001b[39;49m, \u001b[39m75000\u001b[39;49m, X_data)\n",
      "Cell \u001b[0;32mIn[269], line 10\u001b[0m, in \u001b[0;36msvm_draw\u001b[0;34m(model_svm, xmin, xmax, the_dataset)\u001b[0m\n\u001b[1;32m      8\u001b[0m plt\u001b[39m.\u001b[39mscatter(the_dataset\u001b[39m.\u001b[39miloc[:,\u001b[39m0\u001b[39m], the_dataset\u001b[39m.\u001b[39miloc[:,\u001b[39m1\u001b[39m], c \u001b[39m=\u001b[39m the_dataset\u001b[39m.\u001b[39my, cmap \u001b[39m=\u001b[39m color_map, marker\u001b[39m=\u001b[39m\u001b[39m'\u001b[39m\u001b[39m+\u001b[39m\u001b[39m'\u001b[39m)\n\u001b[1;32m      9\u001b[0m \u001b[39m# Constructing a hyperplane using a formula.\u001b[39;00m\n\u001b[0;32m---> 10\u001b[0m w \u001b[39m=\u001b[39m model_svm\u001b[39m.\u001b[39;49mcoef_[\u001b[39m0\u001b[39m]           \u001b[39m# w consists of 2 elements\u001b[39;00m\n\u001b[1;32m     11\u001b[0m b \u001b[39m=\u001b[39m model_svm\u001b[39m.\u001b[39mintercept_[\u001b[39m0\u001b[39m]      \u001b[39m# b consists of 1 element\u001b[39;00m\n\u001b[1;32m     12\u001b[0m x_points \u001b[39m=\u001b[39m np\u001b[39m.\u001b[39mlinspace(xmin, xmax)    \u001b[39m# generating x-points from -1 to 1\u001b[39;00m\n",
      "File \u001b[0;32m~/.local/lib/python3.10/site-packages/sklearn/svm/_base.py:658\u001b[0m, in \u001b[0;36mBaseLibSVM.coef_\u001b[0;34m(self)\u001b[0m\n\u001b[1;32m    651\u001b[0m \u001b[39m\u001b[39m\u001b[39m\"\"\"Weights assigned to the features when `kernel=\"linear\"`.\u001b[39;00m\n\u001b[1;32m    652\u001b[0m \n\u001b[1;32m    653\u001b[0m \u001b[39mReturns\u001b[39;00m\n\u001b[1;32m    654\u001b[0m \u001b[39m-------\u001b[39;00m\n\u001b[1;32m    655\u001b[0m \u001b[39mndarray of shape (n_features, n_classes)\u001b[39;00m\n\u001b[1;32m    656\u001b[0m \u001b[39m\"\"\"\u001b[39;00m\n\u001b[1;32m    657\u001b[0m \u001b[39mif\u001b[39;00m \u001b[39mself\u001b[39m\u001b[39m.\u001b[39mkernel \u001b[39m!=\u001b[39m \u001b[39m\"\u001b[39m\u001b[39mlinear\u001b[39m\u001b[39m\"\u001b[39m:\n\u001b[0;32m--> 658\u001b[0m     \u001b[39mraise\u001b[39;00m \u001b[39mAttributeError\u001b[39;00m(\u001b[39m\"\u001b[39m\u001b[39mcoef_ is only available when using a linear kernel\u001b[39m\u001b[39m\"\u001b[39m)\n\u001b[1;32m    660\u001b[0m coef \u001b[39m=\u001b[39m \u001b[39mself\u001b[39m\u001b[39m.\u001b[39m_get_coef()\n\u001b[1;32m    662\u001b[0m \u001b[39m# coef_ being a read-only property, it's better to mark the value as\u001b[39;00m\n\u001b[1;32m    663\u001b[0m \u001b[39m# immutable to avoid hiding potential bugs for the unsuspecting user.\u001b[39;00m\n",
      "\u001b[0;31mAttributeError\u001b[0m: coef_ is only available when using a linear kernel"
     ]
    },
    {
     "data": {
      "image/png": "[encoded data removed]",
      "text/plain": [
       "<Figure size 1000x800 with 1 Axes>"
      ]
     },
     "metadata": {},
     "output_type": "display_data"
    }
   ],
   "source": [
    "# TODO - Fit a radial SVM\n",
    "# linear SVM\n",
    "model_svm = svm.SVC(C = 1, gamma=10, kernel = 'rbf')\n",
    "model_svm.fit(X_data.iloc[:,0:2], X_data.y)\n",
    "# TODO - draw the boundaries\n",
    "svm_draw(model_svm, -75000, 75000, X_data)"
   ]
  },
  {
   "cell_type": "code",
   "execution_count": null,
   "metadata": {
    "datalore": {
     "hide_input_from_viewers": false,
     "hide_output_from_viewers": false,
     "node_id": "nKsastga1eawPv84gvoj85",
     "report_properties": {},
     "type": "CODE"
    }
   },
   "outputs": [],
   "source": [
    "def draw_boundary(model, data, x_min, x_max, y_min, y_max):\n",
    "    h = 0.1\n",
    "    xx, yy = np.meshgrid(np.arange(x_min, x_max, h), np.arange(y_min, y_max, h))\n",
    "    zz = np.c_[xx.ravel(), yy.ravel()]\n",
    "    zz = pd.DataFrame(zz)\n",
    "    zz2 = zz\n",
    "    pred_zz= pd.Series(model.predict(zz2))\n",
    "    color_map = matplotlib.colors.ListedColormap(pd.Series(['blue', 'red']))\n",
    "    fig = plt.figure(figsize=  (8,8))\n",
    "    fig = plt.scatter(zz.iloc[:,0], zz.iloc[:,1], c = pred_zz, cmap = color_map, marker='+')\n",
    "    fig = plt.scatter(data.iloc[:,0], data.iloc[:,1], s = 50, c = data.iloc[:,2], cmap = color_map)\n",
    "    "
   ]
  },
  {
   "cell_type": "code",
   "execution_count": null,
   "metadata": {
    "datalore": {
     "hide_input_from_viewers": false,
     "hide_output_from_viewers": false,
     "node_id": "WIYnqA4enpHmKa23HIZQde",
     "report_properties": {},
     "type": "CODE"
    }
   },
   "outputs": [
    {
     "name": "stderr",
     "output_type": "stream",
     "text": [
      "/home/cody/.local/lib/python3.10/site-packages/sklearn/base.py:420: UserWarning: X does not have valid feature names, but SVC was fitted with feature names\n",
      "  warnings.warn(\n"
     ]
    },
    {
     "data": {
      "image/png": "[encoded data removed]",
      "text/plain": [
       "<Figure size 800x800 with 1 Axes>"
      ]
     },
     "metadata": {},
     "output_type": "display_data"
    }
   ],
   "source": [
    "draw_boundary(model_svm, X_data, -3, 4, -5, 9)"
   ]
  },
  {
   "attachments": {},
   "cell_type": "markdown",
   "metadata": {
    "datalore": {
     "hide_input_from_viewers": false,
     "hide_output_from_viewers": false,
     "node_id": "wNZkn7kmlMsrRT6j5mXljU",
     "report_properties": {},
     "type": "MD"
    }
   },
   "source": [
    "<font color=\"blue\">**Todo:**</font>\n",
    "- Try now to modify C and gamma to have a better decision boundary\n",
    "- Choose the best values of C and gamma \n",
    "- Estimate the generalization error of this SVM\n",
    "- draw the boundaries"
   ]
  },
  {
   "cell_type": "code",
   "execution_count": null,
   "metadata": {
    "datalore": {
     "hide_input_from_viewers": false,
     "hide_output_from_viewers": false,
     "node_id": "SKHrsRfMSluHYiu7fseCWQ",
     "report_properties": {},
     "type": "CODE"
    }
   },
   "outputs": [],
   "source": [
    "# TODO - search for best C and gamma values using validation set"
   ]
  },
  {
   "cell_type": "code",
   "execution_count": null,
   "metadata": {
    "datalore": {
     "hide_input_from_viewers": false,
     "hide_output_from_viewers": false,
     "node_id": "kUpsaPmEz6LFDCDAYdhn5z",
     "report_properties": {},
     "type": "CODE"
    }
   },
   "outputs": [],
   "source": [
    "# TODO - generalization error estimation"
   ]
  },
  {
   "cell_type": "code",
   "execution_count": null,
   "metadata": {
    "datalore": {
     "hide_input_from_viewers": false,
     "hide_output_from_viewers": false,
     "node_id": "mT2o7AWhqEgefloyaDRAaQ",
     "report_properties": {},
     "type": "CODE"
    }
   },
   "outputs": [],
   "source": [
    "# TODO - draw the boundaries"
   ]
  },
  {
   "attachments": {},
   "cell_type": "markdown",
   "metadata": {
    "datalore": {
     "hide_input_from_viewers": false,
     "hide_output_from_viewers": false,
     "node_id": "MpVzB6r8kUsks4Gjmjmmjh",
     "report_properties": {},
     "type": "MD"
    }
   },
   "source": [
    "<font color=\"blue\">**Todo:**</font> You can also try polynomial kernels by specifying <code>kernel = 'poly'</code>. You'll have to tune the parameter <code>'degree'</code> with this kernel.\n",
    "\n",
    "Note that in SVC, polynomial kernel is defined as: $$ K(x,x')=(\\gamma (x.x') + r)^d$$ where $d$ is specified by parameter <code>degree</code>, r by <code>coef0</code> (default=0.0)."
   ]
  },
  {
   "cell_type": "code",
   "execution_count": null,
   "metadata": {
    "datalore": {
     "hide_input_from_viewers": false,
     "hide_output_from_viewers": false,
     "node_id": "H4BaW3TiwSdr4bQ1qn2dle",
     "report_properties": {},
     "type": "CODE"
    }
   },
   "outputs": [],
   "source": [
    "# TODO - Fit a polynomial kernel. Find the best C and degree using validation set"
   ]
  },
  {
   "attachments": {},
   "cell_type": "markdown",
   "metadata": {
    "datalore": {
     "hide_input_from_viewers": false,
     "hide_output_from_viewers": false,
     "node_id": "0R9PC2sNT5qxKGJ0ESH916",
     "report_properties": {},
     "type": "MD"
    }
   },
   "source": [
    "<font color=\"red\">**Question 4:**</font> \n",
    "- Which are finally the best hyper-parameters?\n",
    "- Evaluate the final model on the test set."
   ]
  },
  {
   "attachments": {},
   "cell_type": "markdown",
   "metadata": {
    "datalore": {
     "hide_input_from_viewers": false,
     "hide_output_from_viewers": false,
     "node_id": "W9Glk9s43R5X3fnc3ilZFB",
     "report_properties": {},
     "type": "MD"
    }
   },
   "source": [
    "## <font color=\"#9400D3\">4. Expert mode</font>\n",
    "\n",
    "When tuning the hyper-parameters with a validation set, rather than using several 'for', scikit learn offers a <code>GridSearchCV(estimator, param_grid)</code> function : https://scikit-learn.org/stable/modules/generated/sklearn.model_selection.GridSearchCV.html\n",
    "\n",
    "The parameters of the estimator (classifier) are optimized by **cross-validated** grid-search over a parameter grid. Candidates are exhaustively generated from a grid of parameter values specified with the <code>param_grid</code> parameter."
   ]
  },
  {
   "cell_type": "code",
   "execution_count": null,
   "metadata": {
    "datalore": {
     "hide_input_from_viewers": false,
     "hide_output_from_viewers": false,
     "node_id": "XaTY6aQ4CBAQLgZ6CuceBI",
     "report_properties": {},
     "type": "CODE"
    }
   },
   "outputs": [],
   "source": [
    "param_grid = [\n",
    "              {'C': [1, 10, 100, 1000], 'kernel': ['linear']},\n",
    "              {'C': [1, 10, 100, 1000], 'degree': [2, 3, 4], 'kernel': ['poly']},\n",
    "              {'C': [1, 10, 100, 1000], 'gamma': [0.01, 0.1, 1.0], 'kernel': ['rbf']},\n",
    "              ]\n",
    "print(\"\\n # Tuning hyper-parameters\")\n",
    "clf = GridSearchCV(svm.SVC(), param_grid, cv=5)\n",
    "clf.fit(train_set.iloc[:,:2], train_set.y)\n",
    "\n",
    "\n",
    "print(\"Best parameters set found on training set:\")\n",
    "print(clf.best_params_)\n",
    "\n",
    "y_pred = clf.predict(test_set.iloc[:,:2])\n",
    "print(\"\\n SVM on test set (parameter tuning) : \\t\", accuracy_score(test_set.y, y_pred), \"\\n\")"
   ]
  },
  {
   "attachments": {},
   "cell_type": "markdown",
   "metadata": {
    "datalore": {
     "hide_input_from_viewers": false,
     "hide_output_from_viewers": false,
     "node_id": "YpzxNDc3zuPUit9vYGkX00",
     "report_properties": {},
     "type": "MD"
    }
   },
   "source": [
    "<font color=\"red\">**Question 5:**</font> \n",
    "- Explain how many learning are done in the above procedure.\n",
    "- How the (hyper)-parameter are selected?\n",
    "- Does that match your previous study?"
   ]
  }
 ],
 "metadata": {
  "datalore": {
   "base_environment": "default",
   "computation_mode": "JUPYTER",
   "package_manager": "pip",
   "packages": [],
   "version": 1
  },
  "kernelspec": {
   "display_name": "Python 3",
   "language": "python",
   "name": "python3"
  },
  "language_info": {
   "codemirror_mode": {
    "name": "ipython",
    "version": 3
   },
   "file_extension": ".py",
   "mimetype": "text/x-python",
   "name": "python",
   "nbconvert_exporter": "python",
   "pygments_lexer": "ipython3",
   "version": "3.10.9"
  },
  "vscode": {
   "interpreter": {
    "hash": "e7370f93d1d0cde622a1f8e1c04877d8463912d04d973331ad4851f04de6915a"
   }
  }
 },
 "nbformat": 4,
 "nbformat_minor": 4
}
